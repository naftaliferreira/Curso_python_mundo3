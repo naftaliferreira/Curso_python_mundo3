{
 "cells": [
  {
   "attachments": {},
   "cell_type": "markdown",
   "metadata": {},
   "source": [
    "Crie um programa que vai gerar cinco números aleatórios e colocar em uma tupla. \n",
    "Depois disso, mostre a listagem de numeros gerados e tambem indique o menor e o maior valor que estáo na tupla. "
   ]
  },
  {
   "cell_type": "code",
   "execution_count": 9,
   "metadata": {},
   "outputs": [],
   "source": [
    "# Gerar cinco números aleatórios e adicionar a tupla\n",
    "from random import randint \n",
    "\n",
    "num = (randint(1, 10), randint(1, 10), randint(1, 10), \n",
    "randint(1, 10), randint(1, 10))"
   ]
  },
  {
   "cell_type": "code",
   "execution_count": 10,
   "metadata": {},
   "outputs": [
    {
     "name": "stdout",
     "output_type": "stream",
     "text": [
      "O valores sorteados foram: 10 10 1 3 3 "
     ]
    }
   ],
   "source": [
    "# numeros gerados\n",
    "print('O valores sorteados foram: ', end='')\n",
    "for n in num:\n",
    "    print(f'{n} ', end='')"
   ]
  },
  {
   "cell_type": "code",
   "execution_count": 11,
   "metadata": {},
   "outputs": [
    {
     "name": "stdout",
     "output_type": "stream",
     "text": [
      "O maior valor sorteado foi 10\n",
      "O menor valor sorteado foi 1\n"
     ]
    }
   ],
   "source": [
    "# maior e menor valores\n",
    "\n",
    "print(f'O maior valor sorteado foi {max(num)}')\n",
    "print(f'O menor valor sorteado foi {min(num)}')"
   ]
  }
 ],
 "metadata": {
  "kernelspec": {
   "display_name": "Python 3",
   "language": "python",
   "name": "python3"
  },
  "language_info": {
   "codemirror_mode": {
    "name": "ipython",
    "version": 3
   },
   "file_extension": ".py",
   "mimetype": "text/x-python",
   "name": "python",
   "nbconvert_exporter": "python",
   "pygments_lexer": "ipython3",
   "version": "3.11.0"
  },
  "orig_nbformat": 4,
  "vscode": {
   "interpreter": {
    "hash": "95d21a403ce38efc0500bb7d5c286cc70e29f8acd2c1a3e359e903572c7f0498"
   }
  }
 },
 "nbformat": 4,
 "nbformat_minor": 2
}
