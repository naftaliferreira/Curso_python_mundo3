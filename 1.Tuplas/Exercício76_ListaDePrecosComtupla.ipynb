{
 "cells": [
  {
   "attachments": {},
   "cell_type": "markdown",
   "metadata": {},
   "source": [
    "Crie um programa que tenha uma tupla única com nomes de produtos e seus respectivos preços, na sequencia.\n",
    "No final, mostre uma listagem de preços, organizando os dados em forma tabular."
   ]
  },
  {
   "cell_type": "code",
   "execution_count": null,
   "metadata": {},
   "outputs": [],
   "source": [
    "estoque = ('Iphone11-64gb-black', 3419.05, 'Iphone11-128gb-black', 2599.05, 'Iphone12-64gb-black', 4749.05, 'Iphone13-128gb-preto', 5799.00, 'Iphone13-512gb-blue', 8398.80, 'Iphone14-128gb-red', 6839.10, 'Iphone14plus-512gb-blue', 8999.10, 'Iphone14promax-128gb-silver', 9449.10)"
   ]
  }
 ],
 "metadata": {
  "kernelspec": {
   "display_name": "Python 3",
   "language": "python",
   "name": "python3"
  },
  "language_info": {
   "codemirror_mode": {
    "name": "ipython",
    "version": 3
   },
   "file_extension": ".py",
   "mimetype": "text/x-python",
   "name": "python",
   "nbconvert_exporter": "python",
   "pygments_lexer": "ipython3",
   "version": "3.11.0"
  },
  "orig_nbformat": 4,
  "vscode": {
   "interpreter": {
    "hash": "95d21a403ce38efc0500bb7d5c286cc70e29f8acd2c1a3e359e903572c7f0498"
   }
  }
 },
 "nbformat": 4,
 "nbformat_minor": 2
}
