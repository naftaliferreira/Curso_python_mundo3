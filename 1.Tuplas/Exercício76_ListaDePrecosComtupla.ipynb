{
 "cells": [
  {
   "attachments": {},
   "cell_type": "markdown",
   "metadata": {},
   "source": [
    "Crie um programa que tenha uma tupla única com nomes de produtos e seus respectivos preços, na sequencia.\n",
    "No final, mostre uma listagem de preços, organizando os dados em forma tabular."
   ]
  },
  {
   "cell_type": "code",
   "execution_count": 34,
   "metadata": {},
   "outputs": [],
   "source": [
    "# tupla com itens e preços\n",
    "estoque = ('Iphone11-64gb-black', 3419.05, 'Iphone11-128gb-black', 2599.05, \n",
    "'Iphone12-64gb-black', 4749.05, 'Iphone13-128gb-preto', 5799.00, \n",
    "'Iphone13-512gb-blue', 8398.80, 'Iphone14-128gb-red', 6839.10, \n",
    "'Iphone14plus-512gb-blue', 8999.10, 'Iphone14promax-128gb-silver', 9449.10)"
   ]
  },
  {
   "cell_type": "code",
   "execution_count": 35,
   "metadata": {},
   "outputs": [
    {
     "name": "stdout",
     "output_type": "stream",
     "text": [
      "----------------------------------------\n",
      "            Python Celulares            \n",
      "----------------------------------------\n",
      "Iphone11-64gb-black...........R$ 3419.05\n",
      "Iphone11-128gb-black..........R$ 2599.05\n",
      "Iphone12-64gb-black...........R$ 4749.05\n",
      "Iphone13-128gb-preto..........R$ 5799.00\n",
      "Iphone13-512gb-blue...........R$ 8398.80\n",
      "Iphone14-128gb-red............R$ 6839.10\n",
      "Iphone14plus-512gb-blue.......R$ 8999.10\n",
      "Iphone14promax-128gb-silver...R$ 9449.10\n",
      "----------------------------------------\n"
     ]
    }
   ],
   "source": [
    "print('-' * 40)\n",
    "print(f'{\"Python Celulares\":^40}')\n",
    "print('-' * 40)\n",
    "for pos in range(0, len(estoque)):\n",
    "    if pos % 2 == 0: # se a posição for par então é o nome do produto\n",
    "        print(f'{estoque[pos]:.<30}', end='')\n",
    "    else:\n",
    "        print(f'R${estoque[pos]:> 7.2f}')\n",
    "print('-' * 40)"
   ]
  }
 ],
 "metadata": {
  "kernelspec": {
   "display_name": "Python 3",
   "language": "python",
   "name": "python3"
  },
  "language_info": {
   "codemirror_mode": {
    "name": "ipython",
    "version": 3
   },
   "file_extension": ".py",
   "mimetype": "text/x-python",
   "name": "python",
   "nbconvert_exporter": "python",
   "pygments_lexer": "ipython3",
   "version": "3.11.0"
  },
  "orig_nbformat": 4,
  "vscode": {
   "interpreter": {
    "hash": "95d21a403ce38efc0500bb7d5c286cc70e29f8acd2c1a3e359e903572c7f0498"
   }
  }
 },
 "nbformat": 4,
 "nbformat_minor": 2
}
