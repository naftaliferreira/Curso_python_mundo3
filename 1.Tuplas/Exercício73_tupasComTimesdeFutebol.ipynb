{
 "cells": [
  {
   "attachments": {},
   "cell_type": "markdown",
   "metadata": {},
   "source": [
    "073 - Crie uma tupla preenchida com os 20 primeiros colocados da Tabela do Campeonato Brasileiro de Futebol, \n",
    "na ordem de colocação. Depois mostre: "
   ]
  },
  {
   "cell_type": "code",
   "execution_count": 12,
   "metadata": {},
   "outputs": [],
   "source": [
    "brasileirao = ('Palmeiras', 'Internacional', 'Fluminense', 'Corintians', 'Flamengo', 'Athlético-PR', 'Atlético-MG', 'Fortaleza', 'São Paulo', 'América-MG', 'Botafogo', 'Santos', 'Goiás', 'Bragantino', 'Coritiba', 'Cuiabá', 'Ceará', 'Atlético-GO', 'Avaí', 'Juventude')\n"
   ]
  },
  {
   "attachments": {},
   "cell_type": "markdown",
   "metadata": {},
   "source": [
    "a) Apenas os 5 primeiros colocados da tabela:"
   ]
  },
  {
   "cell_type": "code",
   "execution_count": 13,
   "metadata": {},
   "outputs": [
    {
     "name": "stdout",
     "output_type": "stream",
     "text": [
      "Os 5 primeiros colocados no Campeonato Brasileiro Série a - 2022:\n",
      "O 1º colocado - Palmeiras\n",
      "O 2º colocado - Internacional\n",
      "O 3º colocado - Fluminense\n",
      "O 4º colocado - Corintians\n",
      "O 5º colocado - Flamengo\n"
     ]
    }
   ],
   "source": [
    "print('Os 5 primeiros colocados no Campeonato Brasileiro Série a - 2022:')\n",
    "p = 0\n",
    "n = -1\n",
    "for c in range(0, 5):\n",
    "    p += 1\n",
    "    n += 1\n",
    "\n",
    "    print(f'O {p}º colocado - {brasileirao[n]}')\n"
   ]
  },
  {
   "attachments": {},
   "cell_type": "markdown",
   "metadata": {},
   "source": [
    "b) Apenas os 4 ultimos colocados da tabela:"
   ]
  },
  {
   "cell_type": "code",
   "execution_count": 20,
   "metadata": {},
   "outputs": [
    {
     "name": "stdout",
     "output_type": "stream",
     "text": [
      "Os quatro últimos colocados na tabela e rebaixados para a Série b - 2023:\n",
      "O 17º colocado - Ceará\n",
      "O 18º colocado - Atlético-GO\n",
      "O 19º colocado - Avaí\n",
      "O 20º colocado - Juventude\n"
     ]
    }
   ],
   "source": [
    "print('Os quatro últimos colocados na tabela e rebaixados para a Série b - 2023:')\n",
    "posi = 16\n",
    "nu = 15\n",
    "for c in range(0, 4):\n",
    "    posi += 1\n",
    "    nu += 1\n",
    "\n",
    "    print(f'O {posi}º colocado - {brasileirao[nu]}')"
   ]
  },
  {
   "attachments": {},
   "cell_type": "markdown",
   "metadata": {},
   "source": [
    "c) Uma lista com os times em ordem alfabética:"
   ]
  },
  {
   "cell_type": "code",
   "execution_count": null,
   "metadata": {},
   "outputs": [
    {
     "name": "stdout",
     "output_type": "stream",
     "text": [
      "Os 20 times em ordem alfabética: \n",
      "['América-MG', 'Athlético-PR', 'Atlético-GO', 'Atlético-MG', 'Avaí', 'Botafogo', 'Bragantino', 'Ceará', 'Corintians', 'Coritiba', 'Cuiabá', 'Flamengo', 'Fluminense', 'Fortaleza', 'Goiás', 'Internacional', 'Juventude', 'Palmeiras', 'Santos', 'São Paulo']\n"
     ]
    }
   ],
   "source": [
    "print('Os 20 times em ordem alfabética: ')\n",
    "print(sorted(brasileirao))"
   ]
  },
  {
   "attachments": {},
   "cell_type": "markdown",
   "metadata": {},
   "source": [
    "d) Em que posição na tabela está o time do Atlético mineiro:"
   ]
  },
  {
   "cell_type": "code",
   "execution_count": 21,
   "metadata": {},
   "outputs": [
    {
     "name": "stdout",
     "output_type": "stream",
     "text": [
      "6\n"
     ]
    }
   ],
   "source": [
    "print(brasileirao.index('Atlético-MG'))"
   ]
  }
 ],
 "metadata": {
  "kernelspec": {
   "display_name": "Python 3",
   "language": "python",
   "name": "python3"
  },
  "language_info": {
   "codemirror_mode": {
    "name": "ipython",
    "version": 3
   },
   "file_extension": ".py",
   "mimetype": "text/x-python",
   "name": "python",
   "nbconvert_exporter": "python",
   "pygments_lexer": "ipython3",
   "version": "3.11.0"
  },
  "orig_nbformat": 4,
  "vscode": {
   "interpreter": {
    "hash": "95d21a403ce38efc0500bb7d5c286cc70e29f8acd2c1a3e359e903572c7f0498"
   }
  }
 },
 "nbformat": 4,
 "nbformat_minor": 2
}
