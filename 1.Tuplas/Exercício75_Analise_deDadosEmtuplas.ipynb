{
 "cells": [
  {
   "attachments": {},
   "cell_type": "markdown",
   "metadata": {},
   "source": [
    "Desenvolva um programa que leia quatro valores pelo teclado e guarde-os em uma tupla. \n",
    "No final, mostre:\n",
    "\n",
    "a) Quantas vezes apareceu o valor 9: \n",
    "\n",
    "b) Em que posição foi digitado pela primeira vez o valor 3\n",
    "\n",
    "c) Quais foram os números pares. "
   ]
  },
  {
   "cell_type": "code",
   "execution_count": 11,
   "metadata": {},
   "outputs": [
    {
     "name": "stdout",
     "output_type": "stream",
     "text": [
      "Voce digitou os valores (5, 4, 6, 8)\n"
     ]
    }
   ],
   "source": [
    "# Lendo quatro valores\n",
    "\n",
    "num = (int(input('Digite um número: ')), \n",
    "int(input('Digite um número: ')),\n",
    "int(input('Digite um número: ')),\n",
    "int(input('Digite um número: ')))\n",
    "\n",
    "print(f'Voce digitou os valores {num}')"
   ]
  },
  {
   "cell_type": "code",
   "execution_count": 12,
   "metadata": {},
   "outputs": [
    {
     "name": "stdout",
     "output_type": "stream",
     "text": [
      "O valor 9 apareceu 0 vezes\n"
     ]
    }
   ],
   "source": [
    "# Quantas vezes aparece o valor 9\n",
    "print(f'O valor 9 apareceu {num.count(9)} vezes')"
   ]
  },
  {
   "cell_type": "code",
   "execution_count": 13,
   "metadata": {},
   "outputs": [],
   "source": [
    "# Em que posição foi digitado o número 3 pela primeira vez"
   ]
  },
  {
   "cell_type": "code",
   "execution_count": 14,
   "metadata": {},
   "outputs": [],
   "source": [
    "# Quais foram os números pares?"
   ]
  }
 ],
 "metadata": {
  "kernelspec": {
   "display_name": "Python 3",
   "language": "python",
   "name": "python3"
  },
  "language_info": {
   "codemirror_mode": {
    "name": "ipython",
    "version": 3
   },
   "file_extension": ".py",
   "mimetype": "text/x-python",
   "name": "python",
   "nbconvert_exporter": "python",
   "pygments_lexer": "ipython3",
   "version": "3.11.0"
  },
  "orig_nbformat": 4,
  "vscode": {
   "interpreter": {
    "hash": "95d21a403ce38efc0500bb7d5c286cc70e29f8acd2c1a3e359e903572c7f0498"
   }
  }
 },
 "nbformat": 4,
 "nbformat_minor": 2
}
