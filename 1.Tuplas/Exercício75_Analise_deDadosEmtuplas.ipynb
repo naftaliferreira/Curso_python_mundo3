{
 "cells": [
  {
   "attachments": {},
   "cell_type": "markdown",
   "metadata": {},
   "source": [
    "Desenvolva um programa que leia quatro valores pelo teclado e guarde-os em uma tupla. \n",
    "No final, mostre:\n",
    "\n",
    "a) Quantas vezes apareceu o valor 9: \n",
    "\n",
    "b) Em que posição foi digitado pela primeira vez o valor 3\n",
    "\n",
    "c) Quais foram os números pares. "
   ]
  },
  {
   "cell_type": "code",
   "execution_count": 26,
   "metadata": {},
   "outputs": [
    {
     "name": "stdout",
     "output_type": "stream",
     "text": [
      "Voce digitou os valores (2, 4, 6, 8)\n"
     ]
    }
   ],
   "source": [
    "# Lendo quatro valores\n",
    "\n",
    "num = (int(input('Digite um número: ')), \n",
    "int(input('Digite outro número: ')),\n",
    "int(input('Digite outro número: ')),\n",
    "int(input('Digite o último número: ')))\n",
    "\n",
    "print(f'Voce digitou os valores {num}')"
   ]
  },
  {
   "cell_type": "code",
   "execution_count": 27,
   "metadata": {},
   "outputs": [
    {
     "name": "stdout",
     "output_type": "stream",
     "text": [
      "O valor 9 apareceu 0 vezes\n"
     ]
    }
   ],
   "source": [
    "# Quantas vezes aparece o valor 9\n",
    "print(f'O valor 9 apareceu {num.count(9)} vezes')"
   ]
  },
  {
   "cell_type": "code",
   "execution_count": 28,
   "metadata": {},
   "outputs": [
    {
     "name": "stdout",
     "output_type": "stream",
     "text": [
      "O número 3 não foi digitado em nenhuma posição!\n"
     ]
    }
   ],
   "source": [
    "# Em que posição foi digitado o número 3 pela primeira vez\n",
    "if 3 in num:\n",
    "    print(f'O valor 3 apareceu na {num.index(3) + 1}ª posição')\n",
    "else:\n",
    "    print('O número 3 não foi digitado em nenhuma posição!')"
   ]
  },
  {
   "cell_type": "code",
   "execution_count": 29,
   "metadata": {},
   "outputs": [
    {
     "name": "stdout",
     "output_type": "stream",
     "text": [
      "Os valores pares digitados foram 2 4 6 8 "
     ]
    }
   ],
   "source": [
    "# Quais foram os números pares?\n",
    "print('Os valores pares digitados foram ', end='')\n",
    "for n in num:\n",
    "    if n % 2 == 0:\n",
    "        print(n, end=' ')\n",
    "\n"
   ]
  }
 ],
 "metadata": {
  "kernelspec": {
   "display_name": "Python 3",
   "language": "python",
   "name": "python3"
  },
  "language_info": {
   "codemirror_mode": {
    "name": "ipython",
    "version": 3
   },
   "file_extension": ".py",
   "mimetype": "text/x-python",
   "name": "python",
   "nbconvert_exporter": "python",
   "pygments_lexer": "ipython3",
   "version": "3.11.0 (main, Oct 24 2022, 18:26:48) [MSC v.1933 64 bit (AMD64)]"
  },
  "orig_nbformat": 4,
  "vscode": {
   "interpreter": {
    "hash": "95d21a403ce38efc0500bb7d5c286cc70e29f8acd2c1a3e359e903572c7f0498"
   }
  }
 },
 "nbformat": 4,
 "nbformat_minor": 2
}
