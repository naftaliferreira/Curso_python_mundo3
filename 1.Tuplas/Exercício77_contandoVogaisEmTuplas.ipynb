{
 "cells": [
  {
   "attachments": {},
   "cell_type": "markdown",
   "metadata": {},
   "source": [
    "Crie um programa que tenha uma tupla com várias palavras (não usar acentos).\n",
    "Depois disso você deve mostrar, para cada palavra, quais são as suas vogais. \n"
   ]
  },
  {
   "cell_type": "code",
   "execution_count": 7,
   "metadata": {},
   "outputs": [],
   "source": [
    "palavras = ('aprender', 'programar', 'linguagem', 'python',\n",
    "            'curso', 'gratis', 'estudar', 'praticar', \n",
    "            'trabalhar', 'mercado', 'programador', 'futuro')"
   ]
  },
  {
   "cell_type": "code",
   "execution_count": 8,
   "metadata": {},
   "outputs": [
    {
     "name": "stdout",
     "output_type": "stream",
     "text": [
      "\n",
      "Na palavra APRENDER temos a e e \n",
      "Na palavra PROGRAMAR temos o a a \n",
      "Na palavra LINGUAGEM temos i u a e \n",
      "Na palavra PYTHON temos o \n",
      "Na palavra CURSO temos u o \n",
      "Na palavra GRATIS temos a i \n",
      "Na palavra ESTUDAR temos e u a \n",
      "Na palavra PRATICAR temos a i a \n",
      "Na palavra TRABALHAR temos a a a \n",
      "Na palavra MERCADO temos e a o \n",
      "Na palavra PROGRAMADOR temos o a a o \n",
      "Na palavra FUTURO temos u u o "
     ]
    }
   ],
   "source": [
    "for p in palavras:\n",
    "    print(f'\\nNa palavra {p.upper()} temos ', end='')\n",
    "    for letra in p:\n",
    "        if letra.lower() in 'aeiou':\n",
    "             print(letra, end=' ')"
   ]
  }
 ],
 "metadata": {
  "kernelspec": {
   "display_name": "Python 3",
   "language": "python",
   "name": "python3"
  },
  "language_info": {
   "codemirror_mode": {
    "name": "ipython",
    "version": 3
   },
   "file_extension": ".py",
   "mimetype": "text/x-python",
   "name": "python",
   "nbconvert_exporter": "python",
   "pygments_lexer": "ipython3",
   "version": "3.11.0 (main, Oct 24 2022, 18:26:48) [MSC v.1933 64 bit (AMD64)]"
  },
  "orig_nbformat": 4,
  "vscode": {
   "interpreter": {
    "hash": "95d21a403ce38efc0500bb7d5c286cc70e29f8acd2c1a3e359e903572c7f0498"
   }
  }
 },
 "nbformat": 4,
 "nbformat_minor": 2
}
