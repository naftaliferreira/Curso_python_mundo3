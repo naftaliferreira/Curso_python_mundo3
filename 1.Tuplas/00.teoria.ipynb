{
 "cells": [
  {
   "attachments": {},
   "cell_type": "markdown",
   "metadata": {},
   "source": [
    "# Tuplas\n",
    "\n",
    "numero = 5 # Variável simples\n",
    "\n",
    "numero = '5', '7', '13', '25' # Variável composta\n",
    "\n",
    "#####  Existem 3 possibilidades de criar variáveis compostas: \n",
    "> Tuplas\n",
    "\n",
    "> Listas\n",
    "\n",
    "> Dicionários\n",
    "\n"
   ]
  },
  {
   "attachments": {},
   "cell_type": "markdown",
   "metadata": {},
   "source": [
    "Nesta aula apenas será apresentado Tuplas. "
   ]
  },
  {
   "cell_type": "code",
   "execution_count": 1,
   "metadata": {},
   "outputs": [
    {
     "name": "stdout",
     "output_type": "stream",
     "text": [
      "5\n",
      "Eu vou comer ('Hamburguer', 'Suco', 'Pizza', 'Pudim', 'Batata Frita')\n",
      "Comi demais!\n"
     ]
    }
   ],
   "source": [
    "lanche = ('Hamburguer', 'Suco', 'Pizza', 'Pudim', 'Batata Frita')\n",
    "\n",
    "print(len(lanche))\n",
    "\n",
    "print(f'Eu vou comer {lanche}')\n",
    "\n",
    "print('Comi demais!')"
   ]
  },
  {
   "cell_type": "code",
   "execution_count": 4,
   "metadata": {},
   "outputs": [
    {
     "name": "stdout",
     "output_type": "stream",
     "text": [
      "Eu vou comer Hamburguer\n",
      "Eu vou comer Suco\n",
      "Eu vou comer Pizza\n",
      "Eu vou comer Pudim\n",
      "Eu vou comer Batata Frita\n"
     ]
    }
   ],
   "source": [
    "lanche = ('Hamburguer', 'Suco', 'Pizza', 'Pudim', 'Batata Frita')\n",
    "\n",
    "for cont in range(0, len(lanche)):\n",
    "    print(f'Eu vou comer {lanche[cont]}')"
   ]
  },
  {
   "cell_type": "code",
   "execution_count": 5,
   "metadata": {},
   "outputs": [
    {
     "name": "stdout",
     "output_type": "stream",
     "text": [
      "Eu vou comer Hamburguer na posição 0\n",
      "Eu vou comer Suco na posição 1\n",
      "Eu vou comer Pizza na posição 2\n",
      "Eu vou comer Pudim na posição 3\n",
      "Eu vou comer Batata Frita na posição 4\n",
      "Comi pra caramba!\n"
     ]
    }
   ],
   "source": [
    "for pos, comida in enumerate(lanche):\n",
    "    print(f'Eu vou comer {comida} na posição {pos}')\n",
    "\n",
    "\n",
    "print('Comi pra caramba!')\n"
   ]
  },
  {
   "cell_type": "code",
   "execution_count": 6,
   "metadata": {},
   "outputs": [
    {
     "name": "stdout",
     "output_type": "stream",
     "text": [
      "Eu vou comer Hamburguer \n",
      "Eu vou comer Suco \n",
      "Eu vou comer Pizza \n",
      "Eu vou comer Pudim \n",
      "Eu vou comer Batata Frita \n"
     ]
    }
   ],
   "source": [
    "for comida in lanche: \n",
    "    print(f'Eu vou comer {comida} ')\n",
    "    "
   ]
  },
  {
   "cell_type": "code",
   "execution_count": 7,
   "metadata": {},
   "outputs": [
    {
     "name": "stdout",
     "output_type": "stream",
     "text": [
      "['Batata Frita', 'Hamburguer', 'Pizza', 'Pudim', 'Suco']\n",
      "('Hamburguer', 'Suco', 'Pizza', 'Pudim', 'Batata Frita')\n"
     ]
    }
   ],
   "source": [
    "print(sorted(lanche)) # A função sorted ela coloca em ordem os elementos da Tupla, não muda, Tuplas são imutáveis.\n",
    "print(lanche) # Este comando apenas confirma que a Tupla não foi alterada. "
   ]
  },
  {
   "cell_type": "code",
   "execution_count": 9,
   "metadata": {},
   "outputs": [
    {
     "name": "stdout",
     "output_type": "stream",
     "text": [
      "(5, 8, 1, 2, 2, 5, 4)\n",
      "(2, 5, 4, 5, 8, 1, 2)\n",
      "7\n",
      "2\n"
     ]
    }
   ],
   "source": [
    "a = (2, 5, 4)\n",
    "b = (5, 8, 1, 2)\n",
    "c = b + a\n",
    "d = a + b\n",
    "print(c) # juntando as Tuplas elas serão mostradas na exata ordem de suas variáveis. \n",
    "print(d) # Em Tuplas a ordem é muito importante. \n",
    "\n",
    "print(len(c)) # Qual o comprimento da Tupla\n",
    "print(d.count(5)) # Quantas vezes determinado caractere aparece na Tupla.\n",
    "print(c.index(8)) # A função mostra em qual posição determinado caracter aparece. \n"
   ]
  }
 ],
 "metadata": {
  "kernelspec": {
   "display_name": "Python 3",
   "language": "python",
   "name": "python3"
  },
  "language_info": {
   "codemirror_mode": {
    "name": "ipython",
    "version": 3
   },
   "file_extension": ".py",
   "mimetype": "text/x-python",
   "name": "python",
   "nbconvert_exporter": "python",
   "pygments_lexer": "ipython3",
   "version": "3.11.0"
  },
  "orig_nbformat": 4,
  "vscode": {
   "interpreter": {
    "hash": "95d21a403ce38efc0500bb7d5c286cc70e29f8acd2c1a3e359e903572c7f0498"
   }
  }
 },
 "nbformat": 4,
 "nbformat_minor": 2
}
