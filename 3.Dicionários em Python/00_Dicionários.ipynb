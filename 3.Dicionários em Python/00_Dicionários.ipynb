{
 "cells": [
  {
   "attachments": {},
   "cell_type": "markdown",
   "metadata": {},
   "source": [
    "Os dicionários são variáveis compostas que permitem armazenar vários valores em uma mesma estrutura, acessíveis por chaves literais.\n",
    "\n",
    "Tuplas ( )\n",
    "\n",
    "Listas [ ]\n",
    "\n",
    "dados = list(  )\n",
    "\n",
    "dados = [ ]\n",
    "\n",
    "Dicionários { } \n",
    "\n",
    "dados = dict( )"
   ]
  },
  {
   "cell_type": "code",
   "execution_count": 21,
   "metadata": {},
   "outputs": [
    {
     "name": "stdout",
     "output_type": "stream",
     "text": [
      "Pedro\n",
      "25\n"
     ]
    }
   ],
   "source": [
    "dados = {'nome': 'Pedro', 'idade': 25}\n",
    "print(dados['nome'])\n",
    "print(dados['idade'])"
   ]
  },
  {
   "cell_type": "code",
   "execution_count": 22,
   "metadata": {},
   "outputs": [
    {
     "name": "stdout",
     "output_type": "stream",
     "text": [
      "{'nome': 'Pedro', 'idade': 25, 'sexo': 'M'}\n"
     ]
    }
   ],
   "source": [
    "# Em dicionários o comando append não funciona, para isso existe outra função para adicionar elementos\n",
    "\n",
    "dados['sexo'] = 'M'\n",
    "\n",
    "print(dados)"
   ]
  },
  {
   "cell_type": "code",
   "execution_count": 23,
   "metadata": {},
   "outputs": [
    {
     "name": "stdout",
     "output_type": "stream",
     "text": [
      "{'nome': 'Pedro', 'sexo': 'M'}\n"
     ]
    }
   ],
   "source": [
    "# Para remover elementos usar a função del\n",
    "\n",
    "del dados['idade']\n",
    "\n",
    "print(dados)"
   ]
  },
  {
   "cell_type": "code",
   "execution_count": 31,
   "metadata": {},
   "outputs": [
    {
     "name": "stdout",
     "output_type": "stream",
     "text": [
      "{'Título': 'Star Wars', 'Ano': '1977', 'Diretor': 'George Lucas'}\n"
     ]
    }
   ],
   "source": [
    "\n",
    "\n",
    "filme = {'Título':'Star Wars', \n",
    "'Ano':'1977', \n",
    "'Diretor':'George Lucas'}\n",
    "\n",
    "print(filme)"
   ]
  },
  {
   "cell_type": "code",
   "execution_count": 33,
   "metadata": {},
   "outputs": [
    {
     "name": "stdout",
     "output_type": "stream",
     "text": [
      "dict_values(['Star Wars', '1977', 'George Lucas'])\n",
      "dict_keys(['Título', 'Ano', 'Diretor'])\n",
      "dict_items([('Título', 'Star Wars'), ('Ano', '1977'), ('Diretor', 'George Lucas')])\n"
     ]
    }
   ],
   "source": [
    "# Valor, chave e itens\n",
    "\n",
    "print(filme.values())\n",
    "print(filme.keys())\n",
    "print(filme.items())\n"
   ]
  },
  {
   "cell_type": "code",
   "execution_count": 30,
   "metadata": {},
   "outputs": [
    {
     "name": "stdout",
     "output_type": "stream",
     "text": [
      "O Título é Star Wars\n",
      "O Ano é 1977\n",
      "O Diretor é George Lucas\n"
     ]
    }
   ],
   "source": [
    "for k, v in filme.items():\n",
    "    print(f'O {k} é {v}')\n"
   ]
  },
  {
   "cell_type": "code",
   "execution_count": null,
   "metadata": {},
   "outputs": [],
   "source": [
    "# É possível unir tipla, lista e dicionários\n",
    "\n",
    "\n"
   ]
  },
  {
   "attachments": {},
   "cell_type": "markdown",
   "metadata": {},
   "source": [
    "Para declarar os valores da lista dentro do f string, é preciso utilizar aspas duplas. "
   ]
  },
  {
   "cell_type": "code",
   "execution_count": 6,
   "metadata": {},
   "outputs": [
    {
     "name": "stdout",
     "output_type": "stream",
     "text": [
      "32\n",
      "O Naftali tem 32 anos\n",
      "dict_keys(['nome', 'idade', 'sexo'])\n",
      "dict_values(['Naftali', 32, 'M'])\n",
      "dict_items([('nome', 'Naftali'), ('idade', 32), ('sexo', 'M')])\n"
     ]
    }
   ],
   "source": [
    "pessoas = {'nome':'Naftali', 'idade': 32, 'sexo':'M'}\n",
    "\n",
    "# prints comuns\n",
    "print(pessoas['idade'])\n",
    "print(f'O {pessoas[\"nome\"]} tem {pessoas[\"idade\"]} anos')\n",
    "\n",
    "# prints específicos\n",
    "print(pessoas.keys())\n",
    "print(pessoas.values())\n",
    "print(pessoas.items())\n"
   ]
  },
  {
   "cell_type": "code",
   "execution_count": 11,
   "metadata": {},
   "outputs": [
    {
     "name": "stdout",
     "output_type": "stream",
     "text": [
      "nome = Leandro \n",
      "idade = 32 \n",
      "peso = 98.5 \n"
     ]
    }
   ],
   "source": [
    "pessoas = {'nome':'Naftali', 'idade': 32, 'sexo':'M'}\n",
    "# deletar sexo\n",
    "del pessoas['sexo']\n",
    "# Trocar o nome\n",
    "pessoas['nome'] = 'Leandro'\n",
    "# Adicionar elemento\n",
    "pessoas['peso'] = 98.5\n",
    "\n",
    "for k, v in pessoas.items():\n",
    "    print(f'{k} = {v} ')"
   ]
  },
  {
   "cell_type": "code",
   "execution_count": 15,
   "metadata": {},
   "outputs": [
    {
     "name": "stdout",
     "output_type": "stream",
     "text": [
      "{'uf': 'Rio de Janeiro', 'sigla': 'RJ'}\n",
      "{'uf': 'São Paulo', 'sigla': 'SP'}\n",
      "[{'uf': 'Rio de Janeiro', 'sigla': 'RJ'}, {'uf': 'São Paulo', 'sigla': 'SP'}]\n",
      "{'uf': 'São Paulo', 'sigla': 'SP'}\n",
      "Rio de Janeiro\n"
     ]
    }
   ],
   "source": [
    "# criando dicionário dentro de uma lista\n",
    "\n",
    "Brasil = []\n",
    "estado1 = {'uf': 'Rio de Janeiro', 'sigla': 'RJ'}\n",
    "estado2 = {'uf': 'São Paulo', 'sigla': 'SP'}\n",
    "\n",
    "Brasil.append(estado1)\n",
    "Brasil.append(estado2)\n",
    "\n",
    "print(estado1)\n",
    "print(estado2)\n",
    "print(Brasil)\n",
    "print(Brasil[1])\n",
    "print(Brasil[0]['uf'])"
   ]
  },
  {
   "attachments": {},
   "cell_type": "markdown",
   "metadata": {},
   "source": [
    "A função [:] para copiar todos os dados não funciona nos dicionários, para isso existe uma função interna do dicionário"
   ]
  },
  {
   "cell_type": "code",
   "execution_count": 22,
   "metadata": {},
   "outputs": [
    {
     "name": "stdout",
     "output_type": "stream",
     "text": [
      "Paraná PR \n",
      "Distrito Federal DF \n",
      "Ceará CE \n"
     ]
    }
   ],
   "source": [
    "estado = dict()\n",
    "brasil = list()\n",
    "\n",
    "for c in range(0, 3):\n",
    "    estado['uf'] = str(input('Unidade Federativa: '))\n",
    "    estado['sigla'] = str(input('Sigla do Estado: '))\n",
    "    brasil.append(estado.copy())\n",
    "\n",
    "for e in brasil:\n",
    "    for v in e.values():\n",
    "        print(v, end=' ')\n",
    "    print()\n",
    "        "
   ]
  }
 ],
 "metadata": {
  "kernelspec": {
   "display_name": "Python 3",
   "language": "python",
   "name": "python3"
  },
  "language_info": {
   "codemirror_mode": {
    "name": "ipython",
    "version": 3
   },
   "file_extension": ".py",
   "mimetype": "text/x-python",
   "name": "python",
   "nbconvert_exporter": "python",
   "pygments_lexer": "ipython3",
   "version": "3.11.0 (main, Oct 24 2022, 18:26:48) [MSC v.1933 64 bit (AMD64)]"
  },
  "orig_nbformat": 4,
  "vscode": {
   "interpreter": {
    "hash": "95d21a403ce38efc0500bb7d5c286cc70e29f8acd2c1a3e359e903572c7f0498"
   }
  }
 },
 "nbformat": 4,
 "nbformat_minor": 2
}
