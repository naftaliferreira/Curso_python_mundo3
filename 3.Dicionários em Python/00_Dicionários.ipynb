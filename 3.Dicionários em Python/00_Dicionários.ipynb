{
 "cells": [
  {
   "attachments": {},
   "cell_type": "markdown",
   "metadata": {},
   "source": [
    "Os dicionários são variáveis compostas que permitem armazenar vários valores em uma mesma estrutura, acessíveis por chaves literais.\n",
    "\n",
    "Tuplas ()\n",
    "\n",
    "Listas []\n",
    "\n",
    "dados = list()\n",
    "\n",
    "dados = []\n",
    "\n",
    "Dicionários {} \n",
    "\n",
    "dados = dict()"
   ]
  },
  {
   "cell_type": "code",
   "execution_count": 21,
   "metadata": {},
   "outputs": [
    {
     "name": "stdout",
     "output_type": "stream",
     "text": [
      "Pedro\n",
      "25\n"
     ]
    }
   ],
   "source": [
    "dados = {'nome': 'Pedro', 'idade': 25}\n",
    "print(dados['nome'])\n",
    "print(dados['idade'])"
   ]
  },
  {
   "cell_type": "code",
   "execution_count": 22,
   "metadata": {},
   "outputs": [
    {
     "name": "stdout",
     "output_type": "stream",
     "text": [
      "{'nome': 'Pedro', 'idade': 25, 'sexo': 'M'}\n"
     ]
    }
   ],
   "source": [
    "# Em dicionários o comando append não funciona, para isso existe outra função para adicionar elementos\n",
    "\n",
    "dados['sexo'] = 'M'\n",
    "\n",
    "print(dados)"
   ]
  },
  {
   "cell_type": "code",
   "execution_count": 23,
   "metadata": {},
   "outputs": [
    {
     "name": "stdout",
     "output_type": "stream",
     "text": [
      "{'nome': 'Pedro', 'sexo': 'M'}\n"
     ]
    }
   ],
   "source": [
    "# Para remover elementos usar a função del\n",
    "\n",
    "del dados['idade']\n",
    "\n",
    "print(dados)"
   ]
  },
  {
   "cell_type": "code",
   "execution_count": 31,
   "metadata": {},
   "outputs": [
    {
     "name": "stdout",
     "output_type": "stream",
     "text": [
      "{'Título': 'Star Wars', 'Ano': '1977', 'Diretor': 'George Lucas'}\n"
     ]
    }
   ],
   "source": [
    "\n",
    "\n",
    "filme = {'Título':'Star Wars', \n",
    "'Ano':'1977', \n",
    "'Diretor':'George Lucas'}\n",
    "\n",
    "print(filme)"
   ]
  },
  {
   "cell_type": "code",
   "execution_count": 33,
   "metadata": {},
   "outputs": [
    {
     "name": "stdout",
     "output_type": "stream",
     "text": [
      "dict_values(['Star Wars', '1977', 'George Lucas'])\n",
      "dict_keys(['Título', 'Ano', 'Diretor'])\n",
      "dict_items([('Título', 'Star Wars'), ('Ano', '1977'), ('Diretor', 'George Lucas')])\n"
     ]
    }
   ],
   "source": [
    "# Valor, chave e itens\n",
    "\n",
    "print(filme.values())\n",
    "print(filme.keys())\n",
    "print(filme.items())\n"
   ]
  },
  {
   "cell_type": "code",
   "execution_count": 30,
   "metadata": {},
   "outputs": [
    {
     "name": "stdout",
     "output_type": "stream",
     "text": [
      "O Título é Star Wars\n",
      "O Ano é 1977\n",
      "O Diretor é George Lucas\n"
     ]
    }
   ],
   "source": [
    "for k, v in filme.items():\n",
    "    print(f'O {k} é {v}')\n"
   ]
  }
 ],
 "metadata": {
  "kernelspec": {
   "display_name": "Python 3",
   "language": "python",
   "name": "python3"
  },
  "language_info": {
   "codemirror_mode": {
    "name": "ipython",
    "version": 3
   },
   "file_extension": ".py",
   "mimetype": "text/x-python",
   "name": "python",
   "nbconvert_exporter": "python",
   "pygments_lexer": "ipython3",
   "version": "3.11.0"
  },
  "orig_nbformat": 4,
  "vscode": {
   "interpreter": {
    "hash": "95d21a403ce38efc0500bb7d5c286cc70e29f8acd2c1a3e359e903572c7f0498"
   }
  }
 },
 "nbformat": 4,
 "nbformat_minor": 2
}
