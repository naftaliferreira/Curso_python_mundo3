{
 "cells": [
  {
   "attachments": {},
   "cell_type": "markdown",
   "metadata": {},
   "source": [
    "Variáveis compostas (listas) parte 2"
   ]
  },
  {
   "cell_type": "code",
   "execution_count": 1,
   "metadata": {},
   "outputs": [
    {
     "name": "stdout",
     "output_type": "stream",
     "text": [
      "Pedro\n",
      "25\n"
     ]
    }
   ],
   "source": [
    "# Exemplo de lista simples ensinado na parte 1\n",
    "dados = list()\n",
    "\n",
    "dados.append('Pedro')\n",
    "dados.append(25)\n",
    "\n",
    "print(dados[0])\n",
    "print(dados[1])\n"
   ]
  },
  {
   "cell_type": "code",
   "execution_count": 5,
   "metadata": {},
   "outputs": [
    {
     "name": "stdout",
     "output_type": "stream",
     "text": [
      "Pedro\n",
      "19\n",
      "João\n",
      "['Maria', 19]\n"
     ]
    }
   ],
   "source": [
    "# Exemplo de lista composta, lista dentro de lista\n",
    "\n",
    "pessoas = [['Pedro', 25], ['Maria', 19], ['João', 32]]\n",
    "\n",
    "print(pessoas[0][0])  # dentro do indice pessoa 0, indice 0 \n",
    "print(pessoas[1][1])\n",
    "print(pessoas[2][0])\n",
    "print(pessoas[1])"
   ]
  },
  {
   "attachments": {},
   "cell_type": "markdown",
   "metadata": {},
   "source": [
    "Parte prática"
   ]
  },
  {
   "cell_type": "code",
   "execution_count": 1,
   "metadata": {},
   "outputs": [
    {
     "name": "stdout",
     "output_type": "stream",
     "text": [
      "[['Gustavo', 40], ['Maria', 22]]\n"
     ]
    }
   ],
   "source": [
    "# Exemplo 1\n",
    "teste = list() # Criação de lista vazia chamada teste\n",
    "teste.append('Gustavo') # Adicionando gustavo na posição 0\n",
    "teste.append(40) # adicionando 40 na posição 1\n",
    "galera = list() # Criação da lista vazia chamada galera\n",
    "galera.append(teste[:]) # copiando os dados da lista teste para dentro de galera, mas copiando todos os dados com [:]\n",
    "teste[0] = 'Maria'\n",
    "teste[1] = 22\n",
    "galera.append(teste[:]) # Copia novamente todos os dados da lista teste para a lista galera\n",
    "\n",
    "print(galera)"
   ]
  },
  {
   "cell_type": "code",
   "execution_count": 6,
   "metadata": {},
   "outputs": [
    {
     "name": "stdout",
     "output_type": "stream",
     "text": [
      "João\n",
      "13\n",
      "['João', 19]\n",
      "['Ana', 33]\n",
      "['Joaquim', 13]\n",
      "['Maria', 45]\n",
      "\n",
      "João\n",
      "Ana\n",
      "Joaquim\n",
      "Maria\n",
      "\n",
      "João tem 19 anos de idade!\n",
      "Ana tem 33 anos de idade!\n",
      "Joaquim tem 13 anos de idade!\n",
      "Maria tem 45 anos de idade!\n"
     ]
    }
   ],
   "source": [
    "# Exemplo 2\n",
    "\n",
    "galera = [['João', 19], ['Ana', 33], ['Joaquim', 13], ['Maria', 45]]\n",
    "\n",
    "print(galera[0][0])\n",
    "print(galera[2][1])\n",
    "\n",
    "for p in galera:\n",
    "    print(p)\n",
    "\n",
    "print()\n",
    "\n",
    "for p in galera:\n",
    "    print(p[0])\n",
    "\n",
    "print()\n",
    "\n",
    "for p in galera:\n",
    "    print(f'{p[0]} tem {p[1]} anos de idade!')\n"
   ]
  },
  {
   "cell_type": "code",
   "execution_count": 8,
   "metadata": {},
   "outputs": [
    {
     "name": "stdout",
     "output_type": "stream",
     "text": [
      "joao é maior de idade!\n",
      "joana é menor de idade!\n",
      "luzia é menor de idade!\n",
      "Na lista temos 1 maiores de idade e 2 menores de idade!\n"
     ]
    }
   ],
   "source": [
    "# Exemplo 3\n",
    "\n",
    "galera = list() # lista vazia onde será armazenado todas as informações\n",
    "dado = list()  # Lista secundária onde será armazenados dados temporários\n",
    "totmaior = totmenor = 0\n",
    "# loop para alimentar a lista\n",
    "for c in range(0, 3):\n",
    "    dado.append(str(input('Nome: ')))\n",
    "    dado.append(int(input('Idade: ')))\n",
    "    galera.append(dado[:])\n",
    "    dado.clear()\n",
    "# condicional para filtrar os dados\n",
    "for p in galera:\n",
    "    if p[1] >= 18:\n",
    "        print(f'{p[0]} é maior de idade!')\n",
    "        totmaior += 1\n",
    "    else:\n",
    "        print(f'{p[0]} é menor de idade!')\n",
    "        totmenor += 1\n",
    "# total de maiores e menores de idade \n",
    "print(f'Na lista temos {totmaior} maiores de idade e {totmenor} menores de idade!')\n"
   ]
  }
 ],
 "metadata": {
  "kernelspec": {
   "display_name": "Python 3",
   "language": "python",
   "name": "python3"
  },
  "language_info": {
   "codemirror_mode": {
    "name": "ipython",
    "version": 3
   },
   "file_extension": ".py",
   "mimetype": "text/x-python",
   "name": "python",
   "nbconvert_exporter": "python",
   "pygments_lexer": "ipython3",
   "version": "3.11.0"
  },
  "orig_nbformat": 4,
  "vscode": {
   "interpreter": {
    "hash": "95d21a403ce38efc0500bb7d5c286cc70e29f8acd2c1a3e359e903572c7f0498"
   }
  }
 },
 "nbformat": 4,
 "nbformat_minor": 2
}
