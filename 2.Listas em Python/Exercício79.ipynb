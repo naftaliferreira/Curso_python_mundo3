{
   "cells": [
      {
         "attachments": {},
         "cell_type": "markdown",
         "metadata": {},
         "source": [
            "Crie um programa onde o usuário possa digitar vários valores numéricos e cadastre-os em uma lista.\n",
            "Caso o número já exista lá dentro, ele não será adicionado. \n",
            "No final serão exibidos todos os valores únicos digitados, em ordem crescente."
         ]
      },
      {
         "cell_type": "code",
         "execution_count": 21,
         "metadata": {},
         "outputs": [],
         "source": [
            "# Lista vazia\n",
            "lista = []"
         ]
      },
      {
         "cell_type": "code",
         "execution_count": 22,
         "metadata": {},
         "outputs": [],
         "source": [
            "# Cadastro infinito de usuários, \n",
            "while True:\n",
            "    lista.append(int(input('Digite um valor: ')))\n",
            "    resposta = ''\n",
            "    resposta = str(input('Quer continuar? [S/N] ')).split()\n",
            "    if resposta == 'N':\n",
            "        break"
         ]
      },
      {
         "cell_type": "code",
         "execution_count": 23,
         "metadata": {},
         "outputs": [
            {
               "name": "stdout",
               "output_type": "stream",
               "text": [
                  "[56, 75, 75]\n"
               ]
            }
         ],
         "source": [
            "# Conteúdo da lista\n",
            "print(lista)"
         ]
      }
   ],
   "metadata": {
      "kernelspec": {
         "display_name": "Python 3",
         "language": "python",
         "name": "python3"
      },
      "language_info": {
         "codemirror_mode": {
            "name": "ipython",
            "version": 3
         },
         "file_extension": ".py",
         "mimetype": "text/x-python",
         "name": "python",
         "nbconvert_exporter": "python",
         "pygments_lexer": "ipython3",
         "version": "3.11.0"
      },
      "orig_nbformat": 4,
      "vscode": {
         "interpreter": {
            "hash": "95d21a403ce38efc0500bb7d5c286cc70e29f8acd2c1a3e359e903572c7f0498"
         }
      }
   },
   "nbformat": 4,
   "nbformat_minor": 2
}
