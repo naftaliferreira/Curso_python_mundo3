{
   "cells": [
      {
         "attachments": {},
         "cell_type": "markdown",
         "metadata": {},
         "source": [
            "Crie um programa onde o usuário possa digitar vários valores numéricos e cadastre-os em uma lista.\n",
            "Caso o número já exista lá dentro, ele não será adicionado. \n",
            "No final serão exibidos todos os valores únicos digitados, em ordem crescente."
         ]
      },
      {
         "cell_type": "code",
         "execution_count": 9,
         "metadata": {},
         "outputs": [],
         "source": [
            "# Lista vazia\n",
            "lista = []"
         ]
      },
      {
         "cell_type": "code",
         "execution_count": 12,
         "metadata": {},
         "outputs": [
            {
               "ename": "ValueError",
               "evalue": "invalid literal for int() with base 10: 'n'",
               "output_type": "error",
               "traceback": [
                  "\u001b[1;31m---------------------------------------------------------------------------\u001b[0m",
                  "\u001b[1;31mValueError\u001b[0m                                Traceback (most recent call last)",
                  "Cell \u001b[1;32mIn[12], line 3\u001b[0m\n\u001b[0;32m      1\u001b[0m \u001b[39m# Cadastro de usuários\u001b[39;00m\n\u001b[0;32m      2\u001b[0m \u001b[39mwhile\u001b[39;00m \u001b[39mTrue\u001b[39;00m:\n\u001b[1;32m----> 3\u001b[0m     lista\u001b[39m.\u001b[39mappend(\u001b[39mint\u001b[39;49m(\u001b[39minput\u001b[39;49m(\u001b[39m'\u001b[39;49m\u001b[39mDigite um valor: \u001b[39;49m\u001b[39m'\u001b[39;49m)))\n\u001b[0;32m      4\u001b[0m     resposta \u001b[39m=\u001b[39m \u001b[39m'\u001b[39m\u001b[39m'\u001b[39m\n\u001b[0;32m      5\u001b[0m     resposta \u001b[39m=\u001b[39m \u001b[39mstr\u001b[39m(\u001b[39minput\u001b[39m(\u001b[39m'\u001b[39m\u001b[39mQuer continuar? [S/N] \u001b[39m\u001b[39m'\u001b[39m))\u001b[39m.\u001b[39mupper\u001b[39m.\u001b[39msplit()\n",
                  "\u001b[1;31mValueError\u001b[0m: invalid literal for int() with base 10: 'n'"
               ]
            }
         ],
         "source": [
            "# Cadastro de usuários\n",
            "while True:\n",
            "    lista.append(int(input('Digite um valor: ')))\n",
            "    resposta = ''\n",
            "    resposta = str(input('Quer continuar? [S/N] ')).upper.split()\n",
            "    if resposta == 'N':\n",
            "        break"
         ]
      },
      {
         "cell_type": "code",
         "execution_count": null,
         "metadata": {},
         "outputs": [
            {
               "name": "stdout",
               "output_type": "stream",
               "text": [
                  "[5]\n"
               ]
            }
         ],
         "source": [
            "# Conteúdo da lista\n",
            "print(lista)"
         ]
      }
   ],
   "metadata": {
      "kernelspec": {
         "display_name": "Python 3",
         "language": "python",
         "name": "python3"
      },
      "language_info": {
         "codemirror_mode": {
            "name": "ipython",
            "version": 3
         },
         "file_extension": ".py",
         "mimetype": "text/x-python",
         "name": "python",
         "nbconvert_exporter": "python",
         "pygments_lexer": "ipython3",
         "version": "3.11.0"
      },
      "orig_nbformat": 4,
      "vscode": {
         "interpreter": {
            "hash": "95d21a403ce38efc0500bb7d5c286cc70e29f8acd2c1a3e359e903572c7f0498"
         }
      }
   },
   "nbformat": 4,
   "nbformat_minor": 2
}
