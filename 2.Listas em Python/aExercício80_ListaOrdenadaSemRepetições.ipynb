{
 "cells": [
  {
   "attachments": {},
   "cell_type": "markdown",
   "metadata": {},
   "source": [
    "Crie um programa onde o usuário possa digitar cinco valores numéricos e cadastre-os em uma lista, já na posição correta de inserção (Sem usar o sort()).\n",
    "No final, mostre a lista ordenada na tela."
   ]
  },
  {
   "cell_type": "code",
   "execution_count": 6,
   "metadata": {},
   "outputs": [
    {
     "name": "stdout",
     "output_type": "stream",
     "text": [
      "-=--=--=--=--=--=--=--=--=--=--=--=--=--=--=--=--=--=--=--=--=--=--=--=--=--=--=--=--=--=-\n",
      "Os valores digitados em ordem são [3, 4, 5, 6, 7]\n"
     ]
    }
   ],
   "source": [
    "lista = []\n",
    "\n",
    "for c in range(0, 5):\n",
    "    n = int(input('Digite um valor: '))\n",
    "    if c == 0:\n",
    "        lista.append(n)\n",
    "    elif n > lista[-1]:\n",
    "        lista.append(n)\n",
    "    else:\n",
    "        pos = 0\n",
    "        while pos < len(lista):\n",
    "            if n <= lista[pos]:\n",
    "                lista.insert(pos, n)\n",
    "                break\n",
    "            pos += 1\n",
    "\n",
    "\n",
    "print('-=-' * 30)\n",
    "print(f'Os valores digitados em ordem são {lista}')\n"
   ]
  }
 ],
 "metadata": {
  "kernelspec": {
   "display_name": "Python 3",
   "language": "python",
   "name": "python3"
  },
  "language_info": {
   "codemirror_mode": {
    "name": "ipython",
    "version": 3
   },
   "file_extension": ".py",
   "mimetype": "text/x-python",
   "name": "python",
   "nbconvert_exporter": "python",
   "pygments_lexer": "ipython3",
   "version": "3.11.0 (main, Oct 24 2022, 18:26:48) [MSC v.1933 64 bit (AMD64)]"
  },
  "orig_nbformat": 4,
  "vscode": {
   "interpreter": {
    "hash": "95d21a403ce38efc0500bb7d5c286cc70e29f8acd2c1a3e359e903572c7f0498"
   }
  }
 },
 "nbformat": 4,
 "nbformat_minor": 2
}
