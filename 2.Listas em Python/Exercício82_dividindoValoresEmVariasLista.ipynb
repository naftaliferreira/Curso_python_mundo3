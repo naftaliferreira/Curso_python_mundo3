{
 "cells": [
  {
   "attachments": {},
   "cell_type": "markdown",
   "metadata": {},
   "source": [
    "Crie um programa que vai ler vários números e colocar em uma lista. Depois disso, crie duas listas extras que vão conter apenas os valores pares e os valores ímpares digitados, respectivamente. Ao final, mostre o conteúdo das três listas geradas."
   ]
  },
  {
   "cell_type": "code",
   "execution_count": 5,
   "metadata": {},
   "outputs": [
    {
     "name": "stdout",
     "output_type": "stream",
     "text": [
      "A lista completa é [4, 6, 7, 8, 9]\n",
      "Os números pares são [6, 8, 4]\n",
      "Os números impares são [9, 7]\n"
     ]
    }
   ],
   "source": [
    "num = list()\n",
    "num_par = list()\n",
    "num_impar = list()\n",
    "\n",
    "while True:\n",
    "    num.append(int(input('Digite um número: ')))   \n",
    "    resp = str(input('Quer continuar? [S/N] '))\n",
    "    if resp in 'Nn':\n",
    "        break\n",
    "\n",
    "for i, v in enumerate(num):\n",
    "    if v % 2 == 0:\n",
    "        num_par.append(v)\n",
    "    elif v % 2 == 1:\n",
    "        num_impar.append(v)\n",
    "\n",
    "num.sort()\n",
    "num_par.sort()\n",
    "num_impar.sort()\n",
    "\n",
    "print(f'A lista completa é {num}')\n",
    "print(f'Os números pares são {num_par}')\n",
    "print(f'Os números impares são {num_impar}')"
   ]
  }
 ],
 "metadata": {
  "kernelspec": {
   "display_name": "Python 3",
   "language": "python",
   "name": "python3"
  },
  "language_info": {
   "codemirror_mode": {
    "name": "ipython",
    "version": 3
   },
   "file_extension": ".py",
   "mimetype": "text/x-python",
   "name": "python",
   "nbconvert_exporter": "python",
   "pygments_lexer": "ipython3",
   "version": "3.11.0"
  },
  "orig_nbformat": 4,
  "vscode": {
   "interpreter": {
    "hash": "95d21a403ce38efc0500bb7d5c286cc70e29f8acd2c1a3e359e903572c7f0498"
   }
  }
 },
 "nbformat": 4,
 "nbformat_minor": 2
}
