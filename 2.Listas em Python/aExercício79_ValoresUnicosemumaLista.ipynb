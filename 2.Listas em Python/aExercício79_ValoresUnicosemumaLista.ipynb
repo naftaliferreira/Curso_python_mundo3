{
   "cells": [
      {
         "attachments": {},
         "cell_type": "markdown",
         "metadata": {},
         "source": [
            "Crie um programa onde o usuário possa digitar vários valores numéricos e cadastre-os em uma lista.\n",
            "Caso o número já exista lá dentro, ele não será adicionado. \n",
            "No final serão exibidos todos os valores únicos digitados, em ordem crescente."
         ]
      },
      {
         "cell_type": "code",
         "execution_count": 15,
         "metadata": {},
         "outputs": [],
         "source": [
            "# Lista vazia\n",
            "numbers = list()"
         ]
      },
      {
         "cell_type": "code",
         "execution_count": 16,
         "metadata": {},
         "outputs": [
            {
               "name": "stdout",
               "output_type": "stream",
               "text": [
                  "Valor adicionado com sucesso!\n",
                  "Valor adicionado com sucesso!\n",
                  "Valor duplicado, não será adicionado a lista.\n",
                  "Valor adicionado com sucesso!\n"
               ]
            }
         ],
         "source": [
            "# Cadastro infinito de usuários, \n",
            "while True:\n",
            "    num = int(input('Digite um número: '))\n",
            "    if num not in numbers:\n",
            "        numbers.append(num)\n",
            "        print('Valor adicionado com sucesso!')\n",
            "    else:\n",
            "        print('Valor duplicado, não será adicionado a lista.')\n",
            "    resposta = str(input('Quer continuar? [S/N] '))\n",
            "    if resposta in 'Nn':\n",
            "        break\n"
         ]
      },
      {
         "cell_type": "code",
         "execution_count": 17,
         "metadata": {},
         "outputs": [
            {
               "name": "stdout",
               "output_type": "stream",
               "text": [
                  "-=-=-=-=-=-=-=-=-=-=-=-=-=-=-=-=-=-=-=-=-=-=-=-=-=-=-=-=-=-=\n",
                  "Você digitou os valores [3, 4, 5]\n"
               ]
            }
         ],
         "source": [
            "# Conteúdo da lista\n",
            "print('-=' * 30)\n",
            "numbers.sort()\n",
            "print(f'Você digitou os valores {numbers}')"
         ]
      }
   ],
   "metadata": {
      "kernelspec": {
         "display_name": "Python 3",
         "language": "python",
         "name": "python3"
      },
      "language_info": {
         "codemirror_mode": {
            "name": "ipython",
            "version": 3
         },
         "file_extension": ".py",
         "mimetype": "text/x-python",
         "name": "python",
         "nbconvert_exporter": "python",
         "pygments_lexer": "ipython3",
         "version": "3.11.0 (main, Oct 24 2022, 18:26:48) [MSC v.1933 64 bit (AMD64)]"
      },
      "orig_nbformat": 4,
      "vscode": {
         "interpreter": {
            "hash": "95d21a403ce38efc0500bb7d5c286cc70e29f8acd2c1a3e359e903572c7f0498"
         }
      }
   },
   "nbformat": 4,
   "nbformat_minor": 2
}
