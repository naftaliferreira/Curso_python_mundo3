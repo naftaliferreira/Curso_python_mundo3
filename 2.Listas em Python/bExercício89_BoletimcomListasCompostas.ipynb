{
    "cells": [
        {
            "attachments": {},
            "cell_type": "markdown",
            "metadata": {},
            "source": [
                "Crie um programa que leia nome e duas notas de vários alunos e guarde tudo em uma lista composta. \n",
                "No final, mostre um boletim contendo a média de cada um e permita que o usuário possa mostrar as notas de cada aluno individualmente."
            ]
        },
        {
            "cell_type": "code",
            "execution_count": 13,
            "metadata": {},
            "outputs": [],
            "source": [
                "# Listas vazias\n",
                "\n",
                "alunos = list()"
            ]
        },
        {
            "cell_type": "code",
            "execution_count": 14,
            "metadata": {},
            "outputs": [],
            "source": [
                "# Input de dados dos alunos\n",
                "while True:\n",
                "    nome = str(input('Nome do aluno: '))\n",
                "    nota1 = float(input('Insira a primeira nota do aluno: '))\n",
                "    nota2 = float(input('Insira a segunda nota do aluno: '))\n",
                "    media = (nota1 + nota2) / 2 \n",
                "    alunos.append([nome, [nota1, nota2], media])\n",
                "    resp = str(input('Quer continuar? [S/N]  '))\n",
                "    if resp in 'Nn':\n",
                "        break"
            ]
        },
        {
            "cell_type": "code",
            "execution_count": 15,
            "metadata": {},
            "outputs": [
                {
                    "name": "stdout",
                    "output_type": "stream",
                    "text": [
                        "₪₪₪₪₪₪₪₪₪₪₪₪₪₪₪₪₪₪₪₪₪₪₪₪₪₪₪₪₪₪₪₪₪₪₪₪₪₪₪₪₪₪₪₪₪₪₪₪₪₪\n",
                        "₪₪₪₪₪₪₪₪₪₪₪ Relatório de notas da turma ₪₪₪₪₪₪₪₪₪₪\n",
                        "₪₪₪₪₪₪₪₪₪₪₪₪₪₪₪₪₪₪₪₪₪₪₪₪₪₪₪₪₪₪₪₪₪₪₪₪₪₪₪₪₪₪₪₪₪₪₪₪₪₪\n",
                        "No. NOME         MÉDIA\n",
                        "₪₪₪₪₪₪₪₪₪₪₪₪₪₪₪₪₪₪₪₪₪₪₪₪₪₪₪₪₪₪₪₪₪₪₪₪₪₪₪₪₪₪₪₪₪₪₪₪₪₪\n",
                        "0   joao           7.9\n",
                        "1   ana            7.3\n",
                        "2   luiza          8.2\n"
                    ]
                }
            ],
            "source": [
                "# Output\n",
                "\n",
                "print('₪' * 50)\n",
                "print('₪' * 11, 'Relatório de notas da turma', '₪' * 10)\n",
                "print('₪' * 50)\n",
                "print(f'{\"No.\":<4}{\"NOME\":<10}{\"MÉDIA\":>8}') \n",
                "print('₪' * 50)\n",
                "\n",
                "for i, a in enumerate(alunos):\n",
                "    print(f'{i:<4}{a[0]:<10}{a[2]:>8.1f}')"
            ]
        },
        {
            "cell_type": "code",
            "execution_count": 16,
            "metadata": {},
            "outputs": [
                {
                    "name": "stdout",
                    "output_type": "stream",
                    "text": [
                        "₪₪₪₪₪₪₪₪₪₪₪₪₪₪₪₪₪₪₪₪₪₪₪₪₪₪₪₪₪₪₪₪₪₪₪₪₪₪₪₪₪₪₪₪₪₪₪₪₪₪\n",
                        "Notas de luiza são [8.9, 7.6]\n",
                        "₪₪₪₪₪₪₪₪₪₪₪₪₪₪₪₪₪₪₪₪₪₪₪₪₪₪₪₪₪₪₪₪₪₪₪₪₪₪₪₪₪₪₪₪₪₪₪₪₪₪\n",
                        "Finalizando a aplicação\n",
                        "Fim do programa\n"
                    ]
                }
            ],
            "source": [
                "# Filtro e Output\n",
                "\n",
                "while True:\n",
                "    print('₪' * 50)\n",
                "    option = int(input('Mostrar notas de qual aluno? (999 interrompe a aplicação) '))\n",
                "    if option == 999:\n",
                "        print('Finalizando a aplicação')\n",
                "        break\n",
                "\n",
                "    if option <= len(alunos):\n",
                "        print(f'Notas de {alunos[option][0]} são {alunos[option][1]}')\n",
                "\n",
                "print('Fim do programa')"
            ]
        }
    ],
    "metadata": {
        "kernelspec": {
            "display_name": "Python 3",
            "language": "python",
            "name": "python3"
        },
        "language_info": {
            "codemirror_mode": {
                "name": "ipython",
                "version": 3
            },
            "file_extension": ".py",
            "mimetype": "text/x-python",
            "name": "python",
            "nbconvert_exporter": "python",
            "pygments_lexer": "ipython3",
            "version": "3.11.0"
        },
        "orig_nbformat": 4,
        "vscode": {
            "interpreter": {
                "hash": "95d21a403ce38efc0500bb7d5c286cc70e29f8acd2c1a3e359e903572c7f0498"
            }
        }
    },
    "nbformat": 4,
    "nbformat_minor": 2
}
