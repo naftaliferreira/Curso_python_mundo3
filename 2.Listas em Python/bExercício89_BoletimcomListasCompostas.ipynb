{
    "cells": [
        {
            "attachments": {},
            "cell_type": "markdown",
            "metadata": {},
            "source": [
                "Crie um programa que leia nome e duas notas de vários alunos e guarde tudo em uma lista composta. \n",
                "No final, mostre um boletim contendo a média de cada um e permita que o usuário possa mostrar as notas de cada aluno individualmente."
            ]
        },
        {
            "cell_type": "code",
            "execution_count": 1,
            "metadata": {},
            "outputs": [],
            "source": [
                "# Listas vazias\n",
                "\n",
                "turma = list()\n",
                "aluno = list()"
            ]
        },
        {
            "cell_type": "code",
            "execution_count": 2,
            "metadata": {},
            "outputs": [],
            "source": [
                "# Input de dados dos alunos\n",
                "while True:\n",
                "    nome = str(input('Nome do aluno: '))\n",
                "    nota1 = float(input('Insira a primeira nota do aluno: '))\n",
                "    nota2 = float(input('Insira a segunda nota do aluno: '))\n",
                "    media = (nota1 + nota2) / 2 \n",
                "    aluno.append([nome, [nota1, nota2], media])\n",
                "    resp = str(input('Quer continuar? [S/N]  '))\n",
                "    if resp in 'Nn':\n",
                "        break\n",
                "\n",
                "\n",
                "\n"
            ]
        },
        {
            "cell_type": "code",
            "execution_count": 3,
            "metadata": {},
            "outputs": [
                {
                    "name": "stdout",
                    "output_type": "stream",
                    "text": [
                        "[['Pollyana', [8.5, 7.9], 8.2]]\n"
                    ]
                }
            ],
            "source": [
                "# Output\n",
                "\n",
                "print()\n"
            ]
        }
    ],
    "metadata": {
        "kernelspec": {
            "display_name": "Python 3",
            "language": "python",
            "name": "python3"
        },
        "language_info": {
            "codemirror_mode": {
                "name": "ipython",
                "version": 3
            },
            "file_extension": ".py",
            "mimetype": "text/x-python",
            "name": "python",
            "nbconvert_exporter": "python",
            "pygments_lexer": "ipython3",
            "version": "3.11.0"
        },
        "orig_nbformat": 4,
        "vscode": {
            "interpreter": {
                "hash": "95d21a403ce38efc0500bb7d5c286cc70e29f8acd2c1a3e359e903572c7f0498"
            }
        }
    },
    "nbformat": 4,
    "nbformat_minor": 2
}
