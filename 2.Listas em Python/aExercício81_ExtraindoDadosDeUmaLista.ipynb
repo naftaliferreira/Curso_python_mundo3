{
 "cells": [
  {
   "attachments": {},
   "cell_type": "markdown",
   "metadata": {},
   "source": [
    "Crie um programa que vai ler vários números e colocar em uma lista. \n",
    "Depois disso, mostre:\n",
    "\n",
    "a) Quantos números foram digitados\n",
    "\n",
    "b) A lista de valores ordenada de forma decrescente\n",
    "\n",
    "c) Se o valor 5 foi digitado e está ou não na lista. "
   ]
  },
  {
   "cell_type": "code",
   "execution_count": 5,
   "metadata": {},
   "outputs": [
    {
     "name": "stdout",
     "output_type": "stream",
     "text": [
      "-*--*--*--*--*--*--*--*--*--*--*--*--*--*--*-\n",
      "Você digitou 4 elementos\n",
      "Os valores em ordem decrescente são [6, 5, 3, 1]\n",
      "O valor 5 faz parte da lista!\n"
     ]
    }
   ],
   "source": [
    "valores = []\n",
    "\n",
    "while True:\n",
    "    valores.append(int(input('Digite um valor: ')))\n",
    "    resp = str(input('Quer continuar? [S/N] '))\n",
    "    if resp in 'Nn':\n",
    "        break\n",
    "\n",
    "print('-*-' * 15)\n",
    "print(f'Você digitou {len(valores)} elementos')\n",
    "valores.sort(reverse=True)\n",
    "print(f'Os valores em ordem decrescente são {valores}')\n",
    "if 5 in valores:\n",
    "    print('O valor 5 faz parte da lista!')\n",
    "else:\n",
    "    print('O valor 5 não faz parte da lista!')\n"
   ]
  }
 ],
 "metadata": {
  "kernelspec": {
   "display_name": "Python 3",
   "language": "python",
   "name": "python3"
  },
  "language_info": {
   "codemirror_mode": {
    "name": "ipython",
    "version": 3
   },
   "file_extension": ".py",
   "mimetype": "text/x-python",
   "name": "python",
   "nbconvert_exporter": "python",
   "pygments_lexer": "ipython3",
   "version": "3.11.0 (main, Oct 24 2022, 18:26:48) [MSC v.1933 64 bit (AMD64)]"
  },
  "orig_nbformat": 4,
  "vscode": {
   "interpreter": {
    "hash": "95d21a403ce38efc0500bb7d5c286cc70e29f8acd2c1a3e359e903572c7f0498"
   }
  }
 },
 "nbformat": 4,
 "nbformat_minor": 2
}
