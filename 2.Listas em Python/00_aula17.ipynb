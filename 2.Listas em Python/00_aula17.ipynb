{
 "cells": [
  {
   "attachments": {},
   "cell_type": "markdown",
   "metadata": {},
   "source": [
    "# Variáveis compostas \n",
    "## (Listas)\n",
    "### Parte 1\n",
    "\n",
    "Diferença entre Tuplas e Listas"
   ]
  },
  {
   "cell_type": "code",
   "execution_count": null,
   "metadata": {},
   "outputs": [],
   "source": [
    "# tupla\n",
    "\n",
    "lanche = ('pizza', 'suco', 'hamburguer', 'pudim')"
   ]
  }
 ],
 "metadata": {
  "language_info": {
   "name": "python"
  },
  "orig_nbformat": 4
 },
 "nbformat": 4,
 "nbformat_minor": 2
}
