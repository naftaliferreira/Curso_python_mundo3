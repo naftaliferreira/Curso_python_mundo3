{
 "cells": [
  {
   "attachments": {},
   "cell_type": "markdown",
   "metadata": {},
   "source": [
    "# Variáveis compostas \n",
    "## (Listas)\n",
    "### Parte 1\n",
    "\n",
    "Diferença entre Tuplas e Listas"
   ]
  },
  {
   "cell_type": "code",
   "execution_count": 2,
   "metadata": {},
   "outputs": [
    {
     "name": "stdout",
     "output_type": "stream",
     "text": [
      "hamburguer\n"
     ]
    },
    {
     "ename": "TypeError",
     "evalue": "'tuple' object does not support item assignment",
     "output_type": "error",
     "traceback": [
      "\u001b[1;31m---------------------------------------------------------------------------\u001b[0m",
      "\u001b[1;31mTypeError\u001b[0m                                 Traceback (most recent call last)",
      "Cell \u001b[1;32mIn[2], line 5\u001b[0m\n\u001b[0;32m      3\u001b[0m lanche \u001b[39m=\u001b[39m (\u001b[39m'\u001b[39m\u001b[39mpizza\u001b[39m\u001b[39m'\u001b[39m, \u001b[39m'\u001b[39m\u001b[39msuco\u001b[39m\u001b[39m'\u001b[39m, \u001b[39m'\u001b[39m\u001b[39mhamburguer\u001b[39m\u001b[39m'\u001b[39m, \u001b[39m'\u001b[39m\u001b[39mpudim\u001b[39m\u001b[39m'\u001b[39m)\n\u001b[0;32m      4\u001b[0m \u001b[39mprint\u001b[39m(lanche[\u001b[39m2\u001b[39m])\n\u001b[1;32m----> 5\u001b[0m lanche[\u001b[39m3\u001b[39;49m] \u001b[39m=\u001b[39m \u001b[39m'\u001b[39m\u001b[39mpicolé\u001b[39m\u001b[39m'\u001b[39m\n",
      "\u001b[1;31mTypeError\u001b[0m: 'tuple' object does not support item assignment"
     ]
    }
   ],
   "source": [
    "# tupla\n",
    "\n",
    "lanche = ('pizza', 'suco', 'hamburguer', 'pudim')\n",
    "print(lanche[2])\n",
    "lanche[3] = 'picolé' # Esta parte dá erro, pois as tuplas são imutáveis, portanto não é possível alterá-las durante a execução. \n",
    "# É necessário utilizar listas caso queira alterar durante a execução do script. "
   ]
  },
  {
   "cell_type": "code",
   "execution_count": null,
   "metadata": {},
   "outputs": [],
   "source": [
    "# lista\n",
    "\n",
    "lanche = ['pizza', 'suco', 'hamburguer', 'pudim']\n",
    "lanche[3] = 'picolé'  # Agora sim é possível alterar. \n",
    "print(lanche)"
   ]
  },
  {
   "cell_type": "code",
   "execution_count": null,
   "metadata": {},
   "outputs": [],
   "source": [
    "# Adicionando itens\n",
    "\n",
    "lanche.append('biscoito') # Adiciona um novo item por último. \n",
    "lanche.insert(0, 'hotdog') # Adiciona um novo item em qualquer posição que quiser. "
   ]
  },
  {
   "cell_type": "code",
   "execution_count": null,
   "metadata": {},
   "outputs": [],
   "source": [
    "# Removendo itens\n",
    "\n",
    "del lanche[3] # Elimina o lanche na posição 3\n",
    "lanche.pop(3) # Método para eliminar um lanche na posição 3, se não passar parâmetro, ele irá eliminar o último. \n",
    "lanche.remove('pizza') # Método para eliminar o valor que quer apagar. "
   ]
  },
  {
   "cell_type": "code",
   "execution_count": null,
   "metadata": {},
   "outputs": [],
   "source": [
    "# Se tentar remover um ítem que não está na listagem, o python retorna um erro. \n",
    "# Mas é possível verificar se na lista existe o ítem: \n",
    "\n",
    "if 'pizza' in lanche:\n",
    "    lanche.remove('pizza')"
   ]
  },
  {
   "cell_type": "code",
   "execution_count": 4,
   "metadata": {},
   "outputs": [
    {
     "name": "stdout",
     "output_type": "stream",
     "text": [
      "[4, 5, 6, 7, 8, 9, 10]\n"
     ]
    }
   ],
   "source": [
    "# É possível criar listas utilizando laço range\n",
    "# A função list declara uma lista. \n",
    "\n",
    "valores = list(range(4, 11))\n",
    "print(valores) # Os elementos são gerados em ordem. "
   ]
  },
  {
   "cell_type": "code",
   "execution_count": 6,
   "metadata": {},
   "outputs": [
    {
     "name": "stdout",
     "output_type": "stream",
     "text": [
      "[0, 2, 3, 4, 5, 8, 9]\n",
      "[9, 8, 5, 4, 3, 2, 0]\n"
     ]
    }
   ],
   "source": [
    "# Colocando elementos em ordem\n",
    "\n",
    "valores = [8, 2, 5, 4, 9, 3, 0]\n",
    "valores.sort() # sort é um metodo que coloca os elementos em ordem.\n",
    "print(valores)\n",
    "valores.sort(reverse=True) # Organiza os elementos porém de forma inversa. \n",
    "print(valores)"
   ]
  },
  {
   "cell_type": "code",
   "execution_count": 7,
   "metadata": {},
   "outputs": [
    {
     "name": "stdout",
     "output_type": "stream",
     "text": [
      "7\n"
     ]
    }
   ],
   "source": [
    "# Tamanho da lista\n",
    "print(len(valores))"
   ]
  },
  {
   "cell_type": "code",
   "execution_count": null,
   "metadata": {},
   "outputs": [],
   "source": []
  }
 ],
 "metadata": {
  "kernelspec": {
   "display_name": "Python 3",
   "language": "python",
   "name": "python3"
  },
  "language_info": {
   "codemirror_mode": {
    "name": "ipython",
    "version": 3
   },
   "file_extension": ".py",
   "mimetype": "text/x-python",
   "name": "python",
   "nbconvert_exporter": "python",
   "pygments_lexer": "ipython3",
   "version": "3.11.0"
  },
  "orig_nbformat": 4,
  "vscode": {
   "interpreter": {
    "hash": "95d21a403ce38efc0500bb7d5c286cc70e29f8acd2c1a3e359e903572c7f0498"
   }
  }
 },
 "nbformat": 4,
 "nbformat_minor": 2
}
