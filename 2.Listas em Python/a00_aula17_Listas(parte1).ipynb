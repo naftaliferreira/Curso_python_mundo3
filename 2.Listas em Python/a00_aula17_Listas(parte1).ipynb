{
 "cells": [
  {
   "attachments": {},
   "cell_type": "markdown",
   "metadata": {},
   "source": [
    "# Variáveis compostas \n",
    "## (Listas)\n",
    "### Parte 1\n",
    "\n",
    "Diferença entre Tuplas e Listas"
   ]
  },
  {
   "cell_type": "code",
   "execution_count": null,
   "metadata": {},
   "outputs": [],
   "source": [
    "# tupla\n",
    "\n",
    "lanche = ('pizza', 'suco', 'hamburguer', 'pudim')\n",
    "print(lanche[2])\n",
    "lanche[3] = 'picolé' # Esta parte dá erro, pois as tuplas são imutáveis, portanto não é possível alterá-las durante a execução. \n",
    "# É necessário utilizar listas caso queira alterar durante a execução do script. "
   ]
  },
  {
   "cell_type": "code",
   "execution_count": null,
   "metadata": {},
   "outputs": [],
   "source": [
    "# lista\n",
    "\n",
    "lanche = ['pizza', 'suco', 'hamburguer', 'pudim']\n",
    "lanche[3] = 'picolé'  # Agora sim é possível alterar. \n",
    "print(lanche)"
   ]
  },
  {
   "cell_type": "code",
   "execution_count": null,
   "metadata": {},
   "outputs": [],
   "source": [
    "# Adicionando itens\n",
    "\n",
    "lanche.append('biscoito') # Adiciona um novo item por último. \n",
    "lanche.insert(0, 'hotdog') # Adiciona um novo item em qualquer posição que quiser. "
   ]
  },
  {
   "cell_type": "code",
   "execution_count": null,
   "metadata": {},
   "outputs": [],
   "source": [
    "# Removendo itens\n",
    "\n",
    "del lanche[3] # Elimina o lanche na posição 3\n",
    "lanche.pop(3) # Método para eliminar um lanche na posição 3, se não passar parâmetro, ele irá eliminar o último. \n",
    "lanche.remove('pizza') # Método para eliminar o valor que quer apagar. "
   ]
  },
  {
   "cell_type": "code",
   "execution_count": null,
   "metadata": {},
   "outputs": [],
   "source": [
    "# Se tentar remover um ítem que não está na listagem, o python retorna um erro. \n",
    "# Mas é possível verificar se na lista existe o ítem: \n",
    "\n",
    "if 'pizza' in lanche:\n",
    "    lanche.remove('pizza')"
   ]
  },
  {
   "cell_type": "code",
   "execution_count": 4,
   "metadata": {},
   "outputs": [
    {
     "name": "stdout",
     "output_type": "stream",
     "text": [
      "[4, 5, 6, 7, 8, 9, 10]\n"
     ]
    }
   ],
   "source": [
    "# É possível criar listas utilizando laço range\n",
    "# A função list declara uma lista. \n",
    "\n",
    "valores = list(range(4, 11))\n",
    "print(valores) # Os elementos são gerados em ordem. "
   ]
  },
  {
   "cell_type": "code",
   "execution_count": 6,
   "metadata": {},
   "outputs": [
    {
     "name": "stdout",
     "output_type": "stream",
     "text": [
      "[0, 2, 3, 4, 5, 8, 9]\n",
      "[9, 8, 5, 4, 3, 2, 0]\n"
     ]
    }
   ],
   "source": [
    "# Colocando elementos em ordem\n",
    "\n",
    "valores = [8, 2, 5, 4, 9, 3, 0]\n",
    "valores.sort() # sort é um metodo que coloca os elementos em ordem.\n",
    "print(valores)\n",
    "valores.sort(reverse=True) # Organiza os elementos porém de forma inversa. \n",
    "print(valores)"
   ]
  },
  {
   "cell_type": "code",
   "execution_count": 7,
   "metadata": {},
   "outputs": [
    {
     "name": "stdout",
     "output_type": "stream",
     "text": [
      "7\n"
     ]
    }
   ],
   "source": [
    "# Tamanho da lista\n",
    "print(len(valores))"
   ]
  },
  {
   "cell_type": "code",
   "execution_count": 12,
   "metadata": {},
   "outputs": [
    {
     "name": "stdout",
     "output_type": "stream",
     "text": [
      "5 ...2 ...7 ...\n",
      "Na posição 0 fica o valor 5!\n",
      "Na posição 1 fica o valor 2!\n",
      "Na posição 2 fica o valor 7!"
     ]
    }
   ],
   "source": [
    "# Duas formas de se criar uma lista vazia\n",
    "# valor = [] \n",
    "# valor = list()\n",
    "\n",
    "# Criando lista\n",
    "valor = []\n",
    "# adicionando valores\n",
    "valor.append(5) \n",
    "valor.append(2)\n",
    "valor.append(7)\n",
    "# Exibir valores\n",
    "for v in valor:\n",
    "    print(f'{v} ...', end='')\n",
    "# Exibir indices e valores\n",
    "for c, v in enumerate(valor):\n",
    "    print(f'\\nNa posição {c} fica o valor {v}!', end='')"
   ]
  },
  {
   "cell_type": "code",
   "execution_count": 17,
   "metadata": {},
   "outputs": [
    {
     "name": "stdout",
     "output_type": "stream",
     "text": [
      "\n",
      "Na posição 0 fica o valor 32!\n",
      "Na posição 1 fica o valor 16!\n",
      "Na posição 2 fica o valor 6!\n",
      "Na posição 3 fica o valor 37!\n",
      "Na posição 4 fica o valor 45!"
     ]
    }
   ],
   "source": [
    "# Adicionando elementos na lista usando range\n",
    "val = []\n",
    "for cont in range(0, 5):\n",
    "    val.append(int(input('Digite um valor: ')))\n",
    "\n",
    "for c, v in enumerate(val):\n",
    "    print(f'\\nNa posição {c} fica o valor {v}!', end='')"
   ]
  },
  {
   "cell_type": "code",
   "execution_count": 20,
   "metadata": {},
   "outputs": [
    {
     "name": "stdout",
     "output_type": "stream",
     "text": [
      "Lista A: [2, 3, 8, 7]\n",
      "Lista B: [2, 3, 8, 7]\n",
      "Lista C: [2, 3, 5, 7]\n",
      "Lista D: [2, 3, 8, 7]\n"
     ]
    }
   ],
   "source": [
    "a = [2, 3, 5, 7]\n",
    "b = a\n",
    "b[2] = 8 # Se alterar um elemento na lista b, a lista a também será alterada pois elas foram igualadas. \n",
    "# No caso a lista não foi copiada, e sim recebeu uma ligação\n",
    "print(f'Lista A: {a}')\n",
    "print(f'Lista B: {b}')\n",
    "# Para copiar uma lista: \n",
    "c = [2, 3, 5, 7]\n",
    "d = c[:] # Desta forma não é criado uma ligação, e sim uma cópia. \n",
    "d[2] = 8\n",
    "print(f'Lista C: {c}')\n",
    "print(f'Lista D: {d}')"
   ]
  }
 ],
 "metadata": {
  "kernelspec": {
   "display_name": "Python 3",
   "language": "python",
   "name": "python3"
  },
  "language_info": {
   "codemirror_mode": {
    "name": "ipython",
    "version": 3
   },
   "file_extension": ".py",
   "mimetype": "text/x-python",
   "name": "python",
   "nbconvert_exporter": "python",
   "pygments_lexer": "ipython3",
   "version": "3.11.0 (main, Oct 24 2022, 18:26:48) [MSC v.1933 64 bit (AMD64)]"
  },
  "orig_nbformat": 4,
  "vscode": {
   "interpreter": {
    "hash": "95d21a403ce38efc0500bb7d5c286cc70e29f8acd2c1a3e359e903572c7f0498"
   }
  }
 },
 "nbformat": 4,
 "nbformat_minor": 2
}
