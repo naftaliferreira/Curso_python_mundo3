{
 "cells": [
  {
   "attachments": {},
   "cell_type": "markdown",
   "metadata": {},
   "source": [
    "## Módulos e pacotes\n"
   ]
  },
  {
   "attachments": {},
   "cell_type": "markdown",
   "metadata": {},
   "source": [
    "## Módulos"
   ]
  },
  {
   "attachments": {},
   "cell_type": "markdown",
   "metadata": {},
   "source": [
    "#### O Python reconhece como módulo todo arquivo .py que possua def dentro dele. \n",
    "##### Modularização vantagens:\n",
    "\n",
    "* Dividir programas grandes em pequenos módulos\n",
    "\n",
    "* Aumentar a legibilidade\n",
    "\n",
    "* Facilitar a manutenção do código\n",
    "\n",
    "* Ocutação do código detalhado\n",
    "\n",
    "* Reutilização em outros projetos\n"
   ]
  },
  {
   "cell_type": "code",
   "execution_count": null,
   "metadata": {},
   "outputs": [],
   "source": [
    "# Exemplo 1\n",
    "\n",
    "def fatorial(n):\n",
    "    f = 1\n",
    "    for c in range(1, n+1):\n",
    "        f *= c\n",
    "    return f\n",
    "\n",
    "def dobro(n):\n",
    "    return n * 2\n",
    "\n",
    "def triplo(n):\n",
    "    return n * 3\n",
    "\n",
    "\n",
    "num = int(input('Digite um valor: '))\n",
    "fat = fatorial(num)\n",
    "\n",
    "print(f'O fatorial de {num} é {fat}')\n",
    "print(f'O dobro de {num} é {dobro(num)}')\n",
    "print(f'O tríplo de {num} é {triplo(num)}')\n"
   ]
  },
  {
   "attachments": {},
   "cell_type": "markdown",
   "metadata": {},
   "source": [
    " A medida que os códigos vão ficando grandes, passa a ser necessário separar uma parte em outro documento e importar apenas o necessário\n",
    "Separando o programa principal em um documento e as funções em outra é possível manter o programa mais limpo e eficaz, para isso: "
   ]
  },
  {
   "attachments": {},
   "cell_type": "markdown",
   "metadata": {},
   "source": [
    "> Exemplo:\n",
    "\n",
    "* Separa as funções e salva em outro arquivo chamado uteis\n",
    "* Volta no arquivo principal e importa os módulos com import uteis\n",
    "* No caso acima, mesmo importando tudo, não irá funcionar de imediato até acrescentar o nome do módulo as funções. \n",
    "    exemplo: \n",
    "\n",
    "        > import uteis\n",
    "            uteis.fatorial(num), uteis.dobro(num), uteis.triplo(num)\n",
    "\n",
    "\n",
    "> Forma abaixo não recomendada pelo Python, pois pode gerar incompatibilidades.\n",
    "* importar as funções isoladas, assim não precisará adicionar o uteis.  \n",
    "\n",
    "\n",
    "        > from uteis import fatorial, dobro, triplo"
   ]
  },
  {
   "attachments": {},
   "cell_type": "markdown",
   "metadata": {},
   "source": [
    "## Pacotes"
   ]
  },
  {
   "attachments": {},
   "cell_type": "markdown",
   "metadata": {},
   "source": [
    ">  Em outras linguagens chamado de bibliotecas"
   ]
  },
  {
   "attachments": {},
   "cell_type": "markdown",
   "metadata": {},
   "source": [
    "Se o arquivo onde fica as def ficar muito grande, se tiver muitas funções, volta ao problema inicial que é a dificuldade de legíbilidade e complicações para fazer manutenção. \n",
    "\n",
    "Para resolver este problema com pacote (pasta que contém módulos) onde fica separado por assunto. \n",
    "    Exemplo:\n",
    "\n",
    "        > manipulação de números, datas, cores, tratamento de string\n",
    "\n",
    "Para chamar: \n",
    "\n",
    "        > import uteis  ou from uteis import datas\n"
   ]
  },
  {
   "attachments": {},
   "cell_type": "markdown",
   "metadata": {},
   "source": [
    "Para criar um pacote, crie uma pasta chamada úteis e dentro crie uma pasta para cores, números, tratamento de string e datas. "
   ]
  },
  {
   "attachments": {},
   "cell_type": "markdown",
   "metadata": {},
   "source": [
    ">> Existe uma sintaxe para nomes de arquivos dentro de pacotes:     __init__.py  (cada pasta de pacote deve ter um)"
   ]
  }
 ],
 "metadata": {
  "kernelspec": {
   "display_name": "Python 3",
   "language": "python",
   "name": "python3"
  },
  "language_info": {
   "codemirror_mode": {
    "name": "ipython",
    "version": 3
   },
   "file_extension": ".py",
   "mimetype": "text/x-python",
   "name": "python",
   "nbconvert_exporter": "python",
   "pygments_lexer": "ipython3",
   "version": "3.11.0"
  },
  "orig_nbformat": 4,
  "vscode": {
   "interpreter": {
    "hash": "95d21a403ce38efc0500bb7d5c286cc70e29f8acd2c1a3e359e903572c7f0498"
   }
  }
 },
 "nbformat": 4,
 "nbformat_minor": 2
}
