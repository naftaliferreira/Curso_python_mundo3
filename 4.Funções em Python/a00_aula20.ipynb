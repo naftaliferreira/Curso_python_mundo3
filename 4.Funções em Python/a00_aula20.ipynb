{
 "cells": [
  {
   "attachments": {},
   "cell_type": "markdown",
   "metadata": {},
   "source": [
    "Dentro do Python existem uma infinidade de funções para auxiliar o programador  "
   ]
  },
  {
   "cell_type": "code",
   "execution_count": null,
   "metadata": {},
   "outputs": [],
   "source": [
    "print()\n",
    "len()\n",
    "input()\n",
    "int()\n",
    "float()\n"
   ]
  },
  {
   "attachments": {},
   "cell_type": "markdown",
   "metadata": {},
   "source": [
    "Mas também é possível criar funções que acabem ou pelo menos reduza as atividades repetidas (também chamadas de rotina) usando def. \n",
    "def significa definição de função."
   ]
  },
  {
   "attachments": {},
   "cell_type": "markdown",
   "metadata": {},
   "source": [
    "Exemplo de rotina sem def"
   ]
  },
  {
   "cell_type": "code",
   "execution_count": 4,
   "metadata": {},
   "outputs": [
    {
     "name": "stdout",
     "output_type": "stream",
     "text": [
      "------------------------------\n",
      "     SISTEMA DE ALUNOS       \n",
      "------------------------------\n",
      "------------------------------\n",
      "   CADASTRO DE FUNCIONÁRIOS      \n",
      "------------------------------\n",
      "------------------------------\n",
      "     ERRO DO SISTEMA      \n",
      "------------------------------\n"
     ]
    }
   ],
   "source": [
    "print('-' * 30)\n",
    "print('     SISTEMA DE ALUNOS       ')\n",
    "print('-' * 30)\n",
    "print('-' * 30)\n",
    "print('   CADASTRO DE FUNCIONÁRIOS      ')\n",
    "print('-' * 30)\n",
    "print('-' * 30)\n",
    "print('     ERRO DO SISTEMA      ')\n",
    "print('-' * 30)"
   ]
  },
  {
   "attachments": {},
   "cell_type": "markdown",
   "metadata": {},
   "source": [
    "Mesmo exemplo com def sem parâmetro"
   ]
  },
  {
   "cell_type": "code",
   "execution_count": 6,
   "metadata": {},
   "outputs": [
    {
     "name": "stdout",
     "output_type": "stream",
     "text": [
      "------------------------------\n",
      "     SISTEMA DE ALUNOS       \n",
      "------------------------------\n",
      "------------------------------\n",
      "   CADASTRO DE FUNCIONÁRIOS      \n",
      "------------------------------\n",
      "------------------------------\n",
      "     ERRO DO SISTEMA      \n",
      "------------------------------\n"
     ]
    }
   ],
   "source": [
    "def mostraLinha():\n",
    "    print('-' * 30)\n",
    "\n",
    "\n",
    "mostraLinha()\n",
    "print('     SISTEMA DE ALUNOS       ')\n",
    "mostraLinha()\n",
    "mostraLinha()\n",
    "print('   CADASTRO DE FUNCIONÁRIOS      ')\n",
    "mostraLinha()\n",
    "mostraLinha()\n",
    "print('     ERRO DO SISTEMA      ')\n",
    "mostraLinha()\n"
   ]
  },
  {
   "attachments": {},
   "cell_type": "markdown",
   "metadata": {},
   "source": [
    "Exemplo anterior com parâmentro"
   ]
  },
  {
   "cell_type": "code",
   "execution_count": 9,
   "metadata": {},
   "outputs": [
    {
     "name": "stdout",
     "output_type": "stream",
     "text": [
      "------------------------------\n",
      "      SISTEMA DE ALUNOS       \n",
      "------------------------------\n"
     ]
    }
   ],
   "source": [
    "def mensagem(msg):\n",
    "    print('-' * 30)\n",
    "    print(msg)\n",
    "    print('-' * 30)\n",
    "\n",
    "\n",
    "mensagem('      SISTEMA DE ALUNOS       ')   "
   ]
  },
  {
   "cell_type": "code",
   "execution_count": 14,
   "metadata": {},
   "outputs": [
    {
     "name": "stdout",
     "output_type": "stream",
     "text": [
      "------------------------------\n",
      "      COLÉGIO SALLESIANOS      \n",
      "------------------------------\n",
      "------------------------------\n",
      "      Área administrativa      \n",
      "------------------------------\n",
      "------------------------------\n",
      "      SISTEMA DE ALUNOS       \n",
      "------------------------------\n"
     ]
    }
   ],
   "source": [
    "def mensagem(msg):\n",
    "    print('-' * 30)\n",
    "    print(msg)\n",
    "    print('-' * 30)\n",
    "\n",
    "\n",
    "# Programa principal\n",
    "mensagem('      COLÉGIO SALLESIANOS      ')\n",
    "mensagem('      Área administrativa      ')\n",
    "mensagem('      SISTEMA DE ALUNOS       ')\n"
   ]
  },
  {
   "attachments": {},
   "cell_type": "markdown",
   "metadata": {},
   "source": [
    "É possível atribuir valores como se fossem variáveis. \n"
   ]
  },
  {
   "cell_type": "code",
   "execution_count": 17,
   "metadata": {},
   "outputs": [
    {
     "name": "stdout",
     "output_type": "stream",
     "text": [
      "A = 4 e B = 5\n",
      "A soma de a + b = 9\n",
      "A = 8 e B = 9\n",
      "A soma de a + b = 17\n",
      "A = 1 e B = 2\n",
      "A soma de a + b = 3\n"
     ]
    }
   ],
   "source": [
    "def soma(a, b):\n",
    "    print(f'A = {a} e B = {b}')\n",
    "    s = a + b\n",
    "    print(f'A soma de a + b = {s}')\n",
    "\n",
    "\n",
    "# Programa principal\n",
    "soma(4, 5)\n",
    "soma(a = 8, b = 9)\n",
    "soma(b = 2, a = 1)"
   ]
  },
  {
   "attachments": {},
   "cell_type": "markdown",
   "metadata": {},
   "source": [
    "No exemplo anterior a função soma está passando dois parâmetros, se por acaso for passado apenas um valor ou três ou mais valores para ela, o programa retorna em erro. Para contornar este problema é necessário usar a função de empacotamento do python."
   ]
  },
  {
   "attachments": {},
   "cell_type": "markdown",
   "metadata": {},
   "source": [
    "Dentro do parêntese basta colocar * que no Python sem a função de desempacotar. Nos dois exemplos abaixo são usados tuplas. "
   ]
  },
  {
   "cell_type": "code",
   "execution_count": 24,
   "metadata": {},
   "outputs": [
    {
     "name": "stdout",
     "output_type": "stream",
     "text": [
      "1 5 32 7 9 Fim\n",
      "56 14 33 Fim\n",
      "35 33 26 27 Fim\n"
     ]
    }
   ],
   "source": [
    "def contador(* núm):\n",
    "    for valor in núm:\n",
    "        print(f'{valor} ', end='')\n",
    "    print('Fim')\n",
    "\n",
    "# Programa principal\n",
    "contador(1, 5, 32, 7, 9)\n",
    "contador(56, 14, 33)\n",
    "contador(35, 33, 26, 27)"
   ]
  },
  {
   "cell_type": "code",
   "execution_count": 25,
   "metadata": {},
   "outputs": [
    {
     "name": "stdout",
     "output_type": "stream",
     "text": [
      "Recebi os valores de (1, 5, 32, 7, 9) e são ao todo 5 números\n",
      "Recebi os valores de (56, 14, 33) e são ao todo 3 números\n",
      "Recebi os valores de (35, 33, 26, 27) e são ao todo 4 números\n"
     ]
    }
   ],
   "source": [
    "def contador(* núm):\n",
    "    tamanho = len(núm)\n",
    "    print(f'Recebi os valores de {núm} e são ao todo {tamanho} números')\n",
    "\n",
    "# Programa principal\n",
    "contador(1, 5, 32, 7, 9)\n",
    "contador(56, 14, 33)\n",
    "contador(35, 33, 26, 27)"
   ]
  },
  {
   "attachments": {},
   "cell_type": "markdown",
   "metadata": {},
   "source": [
    "Exemplo de função com lista"
   ]
  },
  {
   "cell_type": "code",
   "execution_count": 26,
   "metadata": {},
   "outputs": [
    {
     "name": "stdout",
     "output_type": "stream",
     "text": [
      "[14, 4, 10, 0, 8]\n"
     ]
    }
   ],
   "source": [
    "def dobra(lst):\n",
    "    pos = 0\n",
    "    while pos < len(lst):\n",
    "        lst[pos] *= 2\n",
    "        pos += 1\n",
    "\n",
    "valores = [7, 2, 5, 0, 4]\n",
    "dobra(valores)\n",
    "print(valores)        "
   ]
  },
  {
   "attachments": {},
   "cell_type": "markdown",
   "metadata": {},
   "source": [
    "Exemplo da soma com desempacotamento. "
   ]
  },
  {
   "cell_type": "code",
   "execution_count": 27,
   "metadata": {},
   "outputs": [
    {
     "name": "stdout",
     "output_type": "stream",
     "text": [
      "Somando os valores (5, 2) temos 7\n",
      "Somando os valores (2, 9, 4) temos 15\n"
     ]
    }
   ],
   "source": [
    "def soma(* valores):\n",
    "    s = 0\n",
    "    for num in valores:\n",
    "        s += num\n",
    "    print(f'Somando os valores {valores} temos {s}')\n",
    "    \n",
    "\n",
    "soma(5, 2)\n",
    "soma(2, 9, 4)"
   ]
  }
 ],
 "metadata": {
  "kernelspec": {
   "display_name": "Python 3",
   "language": "python",
   "name": "python3"
  },
  "language_info": {
   "codemirror_mode": {
    "name": "ipython",
    "version": 3
   },
   "file_extension": ".py",
   "mimetype": "text/x-python",
   "name": "python",
   "nbconvert_exporter": "python",
   "pygments_lexer": "ipython3",
   "version": "3.11.0"
  },
  "orig_nbformat": 4,
  "vscode": {
   "interpreter": {
    "hash": "95d21a403ce38efc0500bb7d5c286cc70e29f8acd2c1a3e359e903572c7f0498"
   }
  }
 },
 "nbformat": 4,
 "nbformat_minor": 2
}
