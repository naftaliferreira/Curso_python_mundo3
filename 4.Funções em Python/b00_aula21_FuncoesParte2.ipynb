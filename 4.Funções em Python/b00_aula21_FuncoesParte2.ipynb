{
 "cells": [
  {
   "attachments": {},
   "cell_type": "markdown",
   "metadata": {},
   "source": [
    "Nesta aula, é ensinado sobre Interactive Help em Python, o uso de Docstrings para documentar nossas funções, argumentos opcionais\n",
    "para dar dinâmismo em funções Python, escopo de variáveis e retorno de resultados. "
   ]
  },
  {
   "attachments": {},
   "cell_type": "markdown",
   "metadata": {},
   "source": [
    "### Interactive Help | ajuda interativa\n",
    "\n",
    "help()\n",
    "\n",
    "Função retorna ajuda na pesquisa de qualquer função interna ou qualquer biblioteca. \n",
    "para sair do menu basta digitar quit. "
   ]
  },
  {
   "cell_type": "code",
   "execution_count": null,
   "metadata": {},
   "outputs": [],
   "source": [
    "# maneira 1\n",
    "\n",
    "help()\n",
    "\n",
    "# maneira 2\n",
    "\n",
    "help(print) # pesquisa diretamente o manual da função, módulo ou biblioteca desejada\n",
    "\n",
    "# maneira 3\n",
    "\n",
    "print(input.__doc__)\n"
   ]
  },
  {
   "attachments": {},
   "cell_type": "markdown",
   "metadata": {},
   "source": [
    "### Docstrings - string de documentação\n",
    "\n",
    "Muito importante para documentar as funções criadas dentro dos nossos programas, para que facilite na hora da manutenção do código, principalmente quando a manutenção for feita por outros desenvolvedores. \n",
    "\n",
    "Para utilizar basta usar \"\"\" \"\"\" logo abaixo da linha def e adicionar as instruções da função. Logo sempre que alguem usar a função help(def_personalizada) vai aparecer na tela toda as instruções escritas pelo desenvolvedor responsável pela def.  \n",
    "\n"
   ]
  },
  {
   "cell_type": "code",
   "execution_count": null,
   "metadata": {},
   "outputs": [],
   "source": [
    "def contador(i,f,p):\n",
    "    \"\"\"\n",
    "Variáveis utilizadas:\n",
    "\n",
    "i = inicial\n",
    "f = final \n",
    "p passo\n",
    "c = contador\n",
    "    \n",
    "Função contador tem o objetivo de contar de um número inicial (i) até um número final (f) utilizando determinados passos (p)\n",
    "\n",
    "Por exemplo:\n",
    "contador(2, 10, 2)\n",
    "2 4 6 8 10\n",
    "\n",
    "Seu funcionamento é simles, utilizando um contador (c) e um laço while a contagem é feita em quanto o número início for menor ou não for igual \n",
    "ao número final. Ao mesmo tempo é somado o passo (p). \n",
    "\n",
    "programa não tem retorno. \n",
    "\n",
    "    \"\"\"\n",
    "    c = i\n",
    "    while c <=f:\n",
    "        print(f'{c}', end=' ')\n",
    "        c += p\n",
    "    print('Fim!')\n",
    "\n",
    "\n",
    "contador(2, 10, 2)"
   ]
  },
  {
   "cell_type": "code",
   "execution_count": null,
   "metadata": {},
   "outputs": [],
   "source": [
    "help(contador)  # comandos só funcionam no Python tradicional e não no Jupter. "
   ]
  },
  {
   "attachments": {},
   "cell_type": "markdown",
   "metadata": {},
   "source": [
    "### Parâmetros opcionais\n",
    "\n",
    "Quando for criada funções que pedem determinada quantidade de valores e não receber a quantidade exigida é possível contornar \n",
    "atribuindo valor = 0, desta forma que a função receber um valor será trocado, senão, o valor continuará = 0\n"
   ]
  },
  {
   "cell_type": "code",
   "execution_count": 7,
   "metadata": {},
   "outputs": [
    {
     "name": "stdout",
     "output_type": "stream",
     "text": [
      "A soma vale 10\n",
      "A soma vale 12\n",
      "A soma vale 0\n",
      "A soma vale 13\n"
     ]
    }
   ],
   "source": [
    "def somar(a = 0, b = 0, c = 0):\n",
    "    \"\"\" \n",
    "    Esta função soma os valores a, b e c, porém, previamente é atribuido valor = 0 a todos e posteriormente estes valores são substituidos \n",
    "    pelos valores informados dentro da função. \n",
    "    Se algum ou nenhum valor for informado o valor segue = 0\n",
    "    \"\"\"\n",
    "    s = a + b + c\n",
    "    print(f'A soma vale {s}')\n",
    "\n",
    "\n",
    "somar(3, 2, 5)\n",
    "somar(8, 4)\n",
    "somar()\n",
    "somar(b = 5, c = 8)"
   ]
  },
  {
   "attachments": {},
   "cell_type": "markdown",
   "metadata": {},
   "source": [
    "### Escopo de variáveis\n",
    "\n",
    "Demarca onde a variável existe e onde deixa de existir. \n",
    "\n"
   ]
  },
  {
   "attachments": {},
   "cell_type": "markdown",
   "metadata": {},
   "source": [
    "No exemplo abaixo o valor de n é reconhecido tanto no programa principal, onde ele foi definido e também na def, pois está localizado no\n",
    "escopo global. \n",
    "\n",
    "Porém quando x é definido dentro de def, dentro da função x = 8 e quando tentamos imprimir na tela no programa principal retorna erro. Isto acontece por que x está localizado \n",
    "no escopo local. "
   ]
  },
  {
   "cell_type": "code",
   "execution_count": 11,
   "metadata": {},
   "outputs": [
    {
     "name": "stdout",
     "output_type": "stream",
     "text": [
      "No programa principal, n vale 2\n",
      "Na função teste, n vale 2\n",
      "Na função, x vale 8\n"
     ]
    }
   ],
   "source": [
    "# Exemplo\n",
    "def teste():\n",
    "    x = 8\n",
    "    print(f'Na função teste, n vale {n}')\n",
    "    print(f'Na função, x vale {x}')\n",
    "\n",
    "# programa principal\n",
    "n = 2\n",
    "print(f'No programa principal, n vale {n}')\n",
    "teste()\n",
    "# print(f'No programa principal, x vale {x}')"
   ]
  },
  {
   "attachments": {},
   "cell_type": "markdown",
   "metadata": {},
   "source": [
    "Basicamente se um valor for definido no programa principal = escopo global; \n",
    "Se um valor for definido dentro da função = escopo local;\n",
    "dentro do escopo local é possível criar variáveis com o mesmo nome usados no escopo global, porém eles serão como sendo duas variáveis diferentes, Contudo, é possível contornar este problema informando na função que deve usar o valor global da variável. "
   ]
  },
  {
   "cell_type": "code",
   "execution_count": 12,
   "metadata": {},
   "outputs": [
    {
     "name": "stdout",
     "output_type": "stream",
     "text": [
      "A dentro vale 8\n",
      "B dentro vale 9\n",
      "C dentro vale 2\n",
      "A fora vale 8\n"
     ]
    }
   ],
   "source": [
    "# Exemplo 2\n",
    "# função - escopo local\n",
    "\n",
    "def teste1(b):\n",
    "    global a  # palavra reservada global = informa que o valor a ser utilizado será do escopo global \n",
    "    a = 8\n",
    "    b += 4\n",
    "    c = 2\n",
    "    print(f'A dentro vale {a}')\n",
    "    print(f'B dentro vale {b}')\n",
    "    print(f'C dentro vale {c}')\n",
    "\n",
    "# programa principal - escopo global\n",
    "\n",
    "a = 5   # Quando a def definiu que iria utilizar a variável a global e definiu outro valor, o valor passa a ser o definido pela função. \n",
    "teste1(a)\n",
    "print(f'A fora vale {a}')"
   ]
  },
  {
   "attachments": {},
   "cell_type": "markdown",
   "metadata": {},
   "source": [
    "### Retornando valores - return"
   ]
  },
  {
   "cell_type": "code",
   "execution_count": 14,
   "metadata": {},
   "outputs": [
    {
     "name": "stdout",
     "output_type": "stream",
     "text": [
      "A soma vale 10\n",
      "A soma vale 4\n",
      "A soma vale 6\n"
     ]
    }
   ],
   "source": [
    "# Sem return\n",
    "\n",
    "def somar(a=0, b=0, c=0):\n",
    "    s = a + b + c\n",
    "    print(f'A soma vale {s}')\n",
    "\n",
    "somar(3, 2, 5)\n",
    "somar(2, 2)\n",
    "somar(6)"
   ]
  },
  {
   "cell_type": "code",
   "execution_count": 15,
   "metadata": {},
   "outputs": [
    {
     "name": "stdout",
     "output_type": "stream",
     "text": [
      "Os resultados foram 10, 4 e 6\n"
     ]
    }
   ],
   "source": [
    "# Com return\n",
    "\n",
    "def somar(a=0, b=0, c=0):\n",
    "    s = a + b + c\n",
    "    return s\n",
    "\n",
    "r1 = somar(3, 2, 5)\n",
    "r2 = somar(2, 2)\n",
    "r3 = somar(6)\n",
    "\n",
    "print(f'Os resultados foram {r1}, {r2} e {r3}')"
   ]
  },
  {
   "attachments": {},
   "cell_type": "markdown",
   "metadata": {},
   "source": [
    "#### Exercícios práticos"
   ]
  },
  {
   "cell_type": "code",
   "execution_count": 8,
   "metadata": {},
   "outputs": [
    {
     "name": "stdout",
     "output_type": "stream",
     "text": [
      "-=-=-=-=-=-=-=-=-=-=-=-=-=-=-=-=-=-=-=-=\n",
      "O fatorial de 10 é igual a 3628800\n",
      "-=-=-=-=-=-=-=-=-=-=-=-=-=-=-=-=-=-=-=-=\n",
      "Os resultados são de 120, 24 e 1\n"
     ]
    }
   ],
   "source": [
    "def fatorial(num = 1):\n",
    "    f = 1\n",
    "    for c in range(num, 0, -1):\n",
    "        f *= c\n",
    "    return f\n",
    "\n",
    "\n",
    "# programa principal\n",
    "\n",
    "n = int(input('De qual número você quer receber o fatorial? '))\n",
    "print('-=' * 20)\n",
    "print(f'O fatorial de {n} é igual a {fatorial(n)}')\n",
    "print('-=' * 20)\n",
    "\n",
    "f1 = fatorial(5)\n",
    "f2 = fatorial(4)\n",
    "f3 = fatorial()\n",
    "\n",
    "print(f'Os resultados são de {f1}, {f2} e {f3}')"
   ]
  },
  {
   "cell_type": "code",
   "execution_count": 13,
   "metadata": {},
   "outputs": [
    {
     "name": "stdout",
     "output_type": "stream",
     "text": [
      "Não é par\n"
     ]
    }
   ],
   "source": [
    "def parNum(n = 0):\n",
    "    if num % 2 == 0:\n",
    "        return True\n",
    "    else:\n",
    "        return False\n",
    "\n",
    "# programa principal\n",
    "\n",
    "num = int(input('Digite um número: '))\n",
    "if parNum(num):\n",
    "    print('É par')\n",
    "else:\n",
    "    print('Não é par')"
   ]
  }
 ],
 "metadata": {
  "kernelspec": {
   "display_name": "Python 3",
   "language": "python",
   "name": "python3"
  },
  "language_info": {
   "codemirror_mode": {
    "name": "ipython",
    "version": 3
   },
   "file_extension": ".py",
   "mimetype": "text/x-python",
   "name": "python",
   "nbconvert_exporter": "python",
   "pygments_lexer": "ipython3",
   "version": "3.11.0"
  },
  "orig_nbformat": 4,
  "vscode": {
   "interpreter": {
    "hash": "95d21a403ce38efc0500bb7d5c286cc70e29f8acd2c1a3e359e903572c7f0498"
   }
  }
 },
 "nbformat": 4,
 "nbformat_minor": 2
}
