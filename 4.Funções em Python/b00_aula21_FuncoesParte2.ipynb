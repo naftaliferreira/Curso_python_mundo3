{
 "cells": [
  {
   "attachments": {},
   "cell_type": "markdown",
   "metadata": {},
   "source": [
    "Nesta aula, é ensinado sobre Interactive Help em Python, o uso de Docstrings para documentar nossas funções, argumentos opcionais\n",
    "para dar dinâmismo em funções Python, escopo de variáveis e retorno de resultados. "
   ]
  },
  {
   "attachments": {},
   "cell_type": "markdown",
   "metadata": {},
   "source": [
    "### Interactive Help | ajuda interativa\n",
    "\n",
    "help()\n",
    "\n",
    "Função retorna ajuda na pesquisa de qualquer função interna ou qualquer biblioteca. \n",
    "para sair do menu basta digitar quit. "
   ]
  },
  {
   "cell_type": "code",
   "execution_count": null,
   "metadata": {},
   "outputs": [],
   "source": [
    "# maneira 1\n",
    "\n",
    "help()\n",
    "\n",
    "# maneira 2\n",
    "\n",
    "help(print) # pesquisa diretamente o manual da função, módulo ou biblioteca desejada\n",
    "\n",
    "# maneira 3\n",
    "\n",
    "print(input.__doc__)\n"
   ]
  },
  {
   "attachments": {},
   "cell_type": "markdown",
   "metadata": {},
   "source": [
    "### Docstrings - string de documentação\n",
    "\n",
    "Muito importante para documentar as funções criadas dentro dos nossos programas, para que facilite na hora da manutenção do código, principalmente quando a manutenção for feita por outros desenvolvedores. \n",
    "\n",
    "Para utilizar basta usar \"\"\" \"\"\" logo abaixo da linha def e adicionar as instruções da função. Logo sempre que alguem usar a função help(def_personalizada) vai aparecer na tela toda as instruções escritas pelo desenvolvedor responsável pela def.  \n",
    "\n"
   ]
  },
  {
   "cell_type": "code",
   "execution_count": null,
   "metadata": {},
   "outputs": [],
   "source": [
    "def contador(i,f,p):\n",
    "    \"\"\"\n",
    "Variáveis utilizadas:\n",
    "\n",
    "i = inicial\n",
    "f = final \n",
    "p passo\n",
    "c = contador\n",
    "    \n",
    "Função contador tem o objetivo de contar de um número inicial (i) até um número final (f) utilizando determinados passos (p)\n",
    "\n",
    "Por exemplo:\n",
    "contador(2, 10, 2)\n",
    "2 4 6 8 10\n",
    "\n",
    "Seu funcionamento é simles, utilizando um contador (c) e um laço while a contagem é feita em quanto o número início for menor ou não for igual \n",
    "ao número final. Ao mesmo tempo é somado o passo (p). \n",
    "\n",
    "programa não tem retorno. \n",
    "\n",
    "    \"\"\"\n",
    "    c = i\n",
    "    while c <=f:\n",
    "        print(f'{c}', end=' ')\n",
    "        c += p\n",
    "    print('Fim!')\n",
    "\n",
    "\n",
    "contador(2, 10, 2)"
   ]
  },
  {
   "cell_type": "code",
   "execution_count": null,
   "metadata": {},
   "outputs": [],
   "source": [
    "help(contador)  # comandos só funcionam no Python tradicional e não no Jupter. "
   ]
  },
  {
   "attachments": {},
   "cell_type": "markdown",
   "metadata": {},
   "source": [
    "### Parâmetros opcionais\n",
    "\n",
    "Quando for criada funções que pedem determinada quantidade de valores e não receber a quantidade exigida é possível contornar \n",
    "atribuindo valor = 0, desta forma que a função receber um valor será trocado, senão, o valor continuará = 0\n"
   ]
  },
  {
   "cell_type": "code",
   "execution_count": 7,
   "metadata": {},
   "outputs": [
    {
     "name": "stdout",
     "output_type": "stream",
     "text": [
      "A soma vale 10\n",
      "A soma vale 12\n",
      "A soma vale 0\n",
      "A soma vale 13\n"
     ]
    }
   ],
   "source": [
    "def somar(a = 0, b = 0, c = 0):\n",
    "    \"\"\" \n",
    "    Esta função soma os valores a, b e c, porém, previamente é atribuido valor = 0 a todos e posteriormente estes valores são substituidos \n",
    "    pelos valores informados dentro da função. \n",
    "    Se algum ou nenhum valor for informado o valor segue = 0\n",
    "    \"\"\"\n",
    "    s = a + b + c\n",
    "    print(f'A soma vale {s}')\n",
    "\n",
    "\n",
    "somar(3, 2, 5)\n",
    "somar(8, 4)\n",
    "somar()\n",
    "somar(b = 5, c = 8)"
   ]
  },
  {
   "attachments": {},
   "cell_type": "markdown",
   "metadata": {},
   "source": [
    "### Escopo de variáveis\n",
    "\n",
    "Demarca onde a variável existe e onde deixa de existir. \n",
    "\n"
   ]
  },
  {
   "cell_type": "code",
   "execution_count": null,
   "metadata": {},
   "outputs": [],
   "source": []
  }
 ],
 "metadata": {
  "kernelspec": {
   "display_name": "Python 3",
   "language": "python",
   "name": "python3"
  },
  "language_info": {
   "codemirror_mode": {
    "name": "ipython",
    "version": 3
   },
   "file_extension": ".py",
   "mimetype": "text/x-python",
   "name": "python",
   "nbconvert_exporter": "python",
   "pygments_lexer": "ipython3",
   "version": "3.11.0"
  },
  "orig_nbformat": 4,
  "vscode": {
   "interpreter": {
    "hash": "95d21a403ce38efc0500bb7d5c286cc70e29f8acd2c1a3e359e903572c7f0498"
   }
  }
 },
 "nbformat": 4,
 "nbformat_minor": 2
}
