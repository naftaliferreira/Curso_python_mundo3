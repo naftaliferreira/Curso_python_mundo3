{
 "cells": [
  {
   "attachments": {},
   "cell_type": "markdown",
   "metadata": {},
   "source": [
    "## Aula 23 - Tratamento de Erros e Exceções"
   ]
  },
  {
   "attachments": {},
   "cell_type": "markdown",
   "metadata": {},
   "source": [
    "Aula onde é ensinado sobre como o Python permite tratar erros e criar respostas a essas exceções. Aprender como usar a estrutura try except no Python de uma forma simples. "
   ]
  },
  {
   "cell_type": "code",
   "execution_count": 1,
   "metadata": {},
   "outputs": [
    {
     "ename": "NameError",
     "evalue": "name 'primt' is not defined",
     "output_type": "error",
     "traceback": [
      "\u001b[1;31m---------------------------------------------------------------------------\u001b[0m",
      "\u001b[1;31mNameError\u001b[0m                                 Traceback (most recent call last)",
      "Cell \u001b[1;32mIn[1], line 3\u001b[0m\n\u001b[0;32m      1\u001b[0m \u001b[39m# Exemplo1: erro de sintaxe\u001b[39;00m\n\u001b[1;32m----> 3\u001b[0m primt(x)\n",
      "\u001b[1;31mNameError\u001b[0m: name 'primt' is not defined"
     ]
    }
   ],
   "source": [
    "# Exemplo1: erro de sintaxe\n",
    "\n",
    "primt(x)"
   ]
  },
  {
   "cell_type": "code",
   "execution_count": 2,
   "metadata": {},
   "outputs": [
    {
     "ename": "NameError",
     "evalue": "name 'x' is not defined",
     "output_type": "error",
     "traceback": [
      "\u001b[1;31m---------------------------------------------------------------------------\u001b[0m",
      "\u001b[1;31mNameError\u001b[0m                                 Traceback (most recent call last)",
      "Cell \u001b[1;32mIn[2], line 2\u001b[0m\n\u001b[0;32m      1\u001b[0m \u001b[39m# Erro2: erro\u001b[39;00m\n\u001b[1;32m----> 2\u001b[0m \u001b[39mprint\u001b[39m(x)\n",
      "\u001b[1;31mNameError\u001b[0m: name 'x' is not defined"
     ]
    }
   ],
   "source": [
    "# Erro2: erro semântico (de significado)\n",
    "print(x)"
   ]
  },
  {
   "attachments": {},
   "cell_type": "markdown",
   "metadata": {},
   "source": [
    "A primeira coisa a se fazer quando se recebe um erro é analisar a mensagem de retorno, pois retorna o tipo de erro e razão. \n",
    "Quando a sintaxe está correta mas ainda assim retorna um erro, é chamado de exceção. \n",
    "\n",
    "Nos dois casos acima: NameError"
   ]
  },
  {
   "cell_type": "code",
   "execution_count": 5,
   "metadata": {},
   "outputs": [
    {
     "ename": "ValueError",
     "evalue": "invalid literal for int() with base 10: 'oito'",
     "output_type": "error",
     "traceback": [
      "\u001b[1;31m---------------------------------------------------------------------------\u001b[0m",
      "\u001b[1;31mValueError\u001b[0m                                Traceback (most recent call last)",
      "Cell \u001b[1;32mIn[5], line 3\u001b[0m\n\u001b[0;32m      1\u001b[0m \u001b[39m# Exemplo de exceção: \u001b[39;00m\n\u001b[1;32m----> 3\u001b[0m n \u001b[39m=\u001b[39m \u001b[39mint\u001b[39;49m(\u001b[39minput\u001b[39;49m(\u001b[39m'\u001b[39;49m\u001b[39mNum\u001b[39;49m\u001b[39m'\u001b[39;49m))\n\u001b[0;32m      4\u001b[0m \u001b[39mprint\u001b[39m(\u001b[39mf\u001b[39m\u001b[39m'\u001b[39m\u001b[39mVoce digitou o número \u001b[39m\u001b[39m{\u001b[39;00mn\u001b[39m}\u001b[39;00m\u001b[39m'\u001b[39m)\n",
      "\u001b[1;31mValueError\u001b[0m: invalid literal for int() with base 10: 'oito'"
     ]
    }
   ],
   "source": [
    "# Exemplo de exceção: ValueError (Pedir ao usuário inserir um numero inteiro e receber o número no formato string.)\n",
    "\n",
    "n = int(input('Num'))\n",
    "print(f'Voce digitou o número {n}')"
   ]
  },
  {
   "cell_type": "code",
   "execution_count": 8,
   "metadata": {},
   "outputs": [
    {
     "ename": "ZeroDivisionError",
     "evalue": "division by zero",
     "output_type": "error",
     "traceback": [
      "\u001b[1;31m---------------------------------------------------------------------------\u001b[0m",
      "\u001b[1;31mZeroDivisionError\u001b[0m                         Traceback (most recent call last)",
      "Cell \u001b[1;32mIn[8], line 6\u001b[0m\n\u001b[0;32m      3\u001b[0m a \u001b[39m=\u001b[39m \u001b[39mint\u001b[39m(\u001b[39minput\u001b[39m(\u001b[39m'\u001b[39m\u001b[39mNumerador: \u001b[39m\u001b[39m'\u001b[39m))\n\u001b[0;32m      4\u001b[0m b \u001b[39m=\u001b[39m \u001b[39mint\u001b[39m(\u001b[39minput\u001b[39m(\u001b[39m'\u001b[39m\u001b[39mDenominador: \u001b[39m\u001b[39m'\u001b[39m))\n\u001b[1;32m----> 6\u001b[0m r \u001b[39m=\u001b[39m a \u001b[39m/\u001b[39;49m b\n\u001b[0;32m      8\u001b[0m \u001b[39mprint\u001b[39m(\u001b[39mf\u001b[39m\u001b[39m'\u001b[39m\u001b[39mO resultado é \u001b[39m\u001b[39m{\u001b[39;00mr\u001b[39m}\u001b[39;00m\u001b[39m'\u001b[39m)\n",
      "\u001b[1;31mZeroDivisionError\u001b[0m: division by zero"
     ]
    }
   ],
   "source": [
    "# Exemplo2 de exceção: ZeroDivisionError  (retorna uma mensagem de erro se digitar o valor em string, mas também se colocar um dos valores como sendo 0 (zero) , ou seja não é possível dividir um numero por zero. )\n",
    "\n",
    "a = int(input('Numerador: '))\n",
    "b = int(input('Denominador: '))\n",
    "\n",
    "r = a / b\n",
    "\n",
    "print(f'O resultado é {r}')"
   ]
  },
  {
   "cell_type": "code",
   "execution_count": 9,
   "metadata": {},
   "outputs": [
    {
     "ename": "TypeError",
     "evalue": "unsupported operand type(s) for /: 'int' and 'str'",
     "output_type": "error",
     "traceback": [
      "\u001b[1;31m---------------------------------------------------------------------------\u001b[0m",
      "\u001b[1;31mTypeError\u001b[0m                                 Traceback (most recent call last)",
      "Cell \u001b[1;32mIn[9], line 1\u001b[0m\n\u001b[1;32m----> 1\u001b[0m r \u001b[39m=\u001b[39m \u001b[39m2\u001b[39;49m \u001b[39m/\u001b[39;49m \u001b[39m'\u001b[39;49m\u001b[39m2\u001b[39;49m\u001b[39m'\u001b[39;49m\n\u001b[0;32m      3\u001b[0m \u001b[39mprint\u001b[39m(\u001b[39mf\u001b[39m\u001b[39m'\u001b[39m\u001b[39mA resposta é \u001b[39m\u001b[39m{\u001b[39;00mr\u001b[39m}\u001b[39;00m\u001b[39m'\u001b[39m)\n",
      "\u001b[1;31mTypeError\u001b[0m: unsupported operand type(s) for /: 'int' and 'str'"
     ]
    }
   ],
   "source": [
    "# Exemplo3 de exceção: TypeError  (erro de tipo, um valor é string e o outro é inteiro)\n",
    "\n",
    "r = 2 / '2'\n",
    "\n",
    "print(f'A resposta é {r}')\n"
   ]
  },
  {
   "cell_type": "code",
   "execution_count": 10,
   "metadata": {},
   "outputs": [
    {
     "ename": "IndexError",
     "evalue": "list index out of range",
     "output_type": "error",
     "traceback": [
      "\u001b[1;31m---------------------------------------------------------------------------\u001b[0m",
      "\u001b[1;31mIndexError\u001b[0m                                Traceback (most recent call last)",
      "Cell \u001b[1;32mIn[10], line 5\u001b[0m\n\u001b[0;32m      1\u001b[0m \u001b[39m# Exemplo4 de exceção: \u001b[39;00m\n\u001b[0;32m      3\u001b[0m lista \u001b[39m=\u001b[39m [\u001b[39m3\u001b[39m,\u001b[39m6\u001b[39m,\u001b[39m4\u001b[39m]\n\u001b[1;32m----> 5\u001b[0m \u001b[39mprint\u001b[39m(lista[\u001b[39m3\u001b[39;49m])\n",
      "\u001b[1;31mIndexError\u001b[0m: list index out of range"
     ]
    }
   ],
   "source": [
    "# Exemplo4 de exceção: IndexError (Python começa apartir do 0, portanto não existe indice 3 nesta lista)\n",
    "\n",
    "lista = [3,6,4]\n",
    "\n",
    "print(lista[3])\n"
   ]
  },
  {
   "cell_type": "code",
   "execution_count": 11,
   "metadata": {},
   "outputs": [
    {
     "ename": "ModuleNotFoundError",
     "evalue": "No module named 'uteis'",
     "output_type": "error",
     "traceback": [
      "\u001b[1;31m---------------------------------------------------------------------------\u001b[0m",
      "\u001b[1;31mModuleNotFoundError\u001b[0m                       Traceback (most recent call last)",
      "Cell \u001b[1;32mIn[11], line 1\u001b[0m\n\u001b[1;32m----> 1\u001b[0m \u001b[39mimport\u001b[39;00m \u001b[39muteis\u001b[39;00m\n",
      "\u001b[1;31mModuleNotFoundError\u001b[0m: No module named 'uteis'"
     ]
    }
   ],
   "source": [
    "# Exemplo5 de exceção: ModuleNotFoundError (Módulo importado não existe, ou não encontrado)\n",
    "\n",
    "import uteis"
   ]
  },
  {
   "attachments": {},
   "cell_type": "markdown",
   "metadata": {},
   "source": [
    "Dentro do Python existem inúmeras exceções, impossível de decorar e nem é necessário. As exceções não é toda a hora que acontece, porém quando acontecer, basta pesquisar o nome da exceção e analisar como corrigir. \n",
    "\n",
    "Para pesquisar sobre: Google > Python exception list\n",
    "\n",
    "Toda exceção dentro do Python é filho de uma classe maior chamada Exception."
   ]
  },
  {
   "attachments": {},
   "cell_type": "markdown",
   "metadata": {},
   "source": [
    "## Como Tratar exceções: "
   ]
  },
  {
   "attachments": {},
   "cell_type": "markdown",
   "metadata": {},
   "source": [
    "Usando a seguinte sintaxe é possível tratar possíveis problemas de exceções: \n",
    "\n",
    "\n",
    "try:\n",
    "\n",
    "    Operação (Tentar algo)  -> Obrigatório\n",
    "\n",
    "except: \n",
    "\n",
    "    falhou  (Se falhar, o que fazer?)  -> Obrigatório\n",
    "\n",
    "else: \n",
    "\n",
    "    deu certo (se der certo, o que fazer?)  -> Opcional\n",
    "\n",
    "finally:\n",
    "\n",
    "    certo / falha (independente se der certo/falhar)  -> Opcional"
   ]
  },
  {
   "cell_type": "code",
   "execution_count": 5,
   "metadata": {},
   "outputs": [
    {
     "name": "stdout",
     "output_type": "stream",
     "text": [
      "O resultado é 5.0\n",
      "Volte sempre! Muito obrigado!\n"
     ]
    }
   ],
   "source": [
    "# Exemplo de tratamento de erro sem exibir qual o erro:\n",
    "\n",
    "try:\n",
    "    a = int(input('Numerador: '))\n",
    "    b = int(input('Denominador: '))\n",
    "    r = a / b  \n",
    "except: \n",
    "    print('Ocorreu um erro! Tente novamente!')\n",
    "\n",
    "else:\n",
    "    print(f'O resultado é {r:.1f}')\n",
    "\n",
    "finally:\n",
    "    print('Volte sempre! Muito obrigado!')"
   ]
  },
  {
   "cell_type": "code",
   "execution_count": 6,
   "metadata": {},
   "outputs": [
    {
     "name": "stdout",
     "output_type": "stream",
     "text": [
      "O problema encontrado foi <class 'ValueError'>\n",
      "Volte sempre! Muito obrigado!\n"
     ]
    }
   ],
   "source": [
    "# Exemplo de tratamento de erro exibindo qual foi o erro: \n",
    "\n",
    "try:\n",
    "    a = int(input('Numerador: '))\n",
    "    b = int(input('Denominador: '))\n",
    "    r = a / b  \n",
    "except Exception as erro: \n",
    "    print(f'O problema encontrado foi {erro.__class__}')\n",
    "\n",
    "else:\n",
    "    print(f'O resultado é {r:.1f}')\n",
    "\n",
    "finally:\n",
    "    print('Volte sempre! Muito obrigado!')"
   ]
  },
  {
   "attachments": {},
   "cell_type": "markdown",
   "metadata": {},
   "source": [
    "Naturalmente o desenvolvedor não deve exibir qual o erro para o usuário e sim identificar o erro e tratar. A estrutura de tratamento pode expandir bastante a fim de tratar todos os erros do código. "
   ]
  },
  {
   "attachments": {},
   "cell_type": "markdown",
   "metadata": {},
   "source": [
    "try:\n",
    "\n",
    "    Operação (Tentar algo)  \n",
    "\n",
    "except: \n",
    "\n",
    "    falhou  (Se falhar, o que fazer?)  \n",
    "\n",
    "except ValueError:\n",
    "    \n",
    "    falhou  (Cada erro com seu proprio bloco de tratamento)\n",
    "\n",
    "except OSError:\n",
    "\n",
    "    falhou  (Cada erro com seu proprio bloco de tratamento)\n",
    "\n",
    "\n",
    "else: \n",
    "\n",
    "    deu certo (se der certo, o que fazer?)  \n",
    "\n",
    "finally:\n",
    "\n",
    "    certo / falha (independente se der certo/falhar) "
   ]
  },
  {
   "cell_type": "code",
   "execution_count": 12,
   "metadata": {},
   "outputs": [
    {
     "name": "stdout",
     "output_type": "stream",
     "text": [
      "Não é possível dividir um número por zero!\n",
      "Volte sempre! Muito obrigado!\n"
     ]
    }
   ],
   "source": [
    "# Tratamento de erro personalizado\n",
    "\n",
    "# Exemplo de tratamento de erro exibindo qual foi o erro: \n",
    "\n",
    "try:\n",
    "    a = int(input('Numerador: '))\n",
    "    b = int(input('Denominador: '))\n",
    "    r = a / b  \n",
    "\n",
    "except (ValueError, TypeError):\n",
    "    print('Tivemos um erro com os tipos de dados que você digitou!')\n",
    "\n",
    "except ZeroDivisionError:\n",
    "    print('Não é possível dividir um número por zero!')\n",
    "\n",
    "except KeyboardInterrupt:\n",
    "    print('O usuário preferiu não informar os dados!')\n",
    "\n",
    "except Exception as erro:\n",
    "    print(f'O erro encontrado foi {erro.__cause__}')\n",
    "\n",
    "else:\n",
    "    print(f'O resultado é {r:.1f}')\n",
    "\n",
    "finally:\n",
    "    print('Volte sempre! Muito obrigado!')"
   ]
  }
 ],
 "metadata": {
  "kernelspec": {
   "display_name": "Python 3",
   "language": "python",
   "name": "python3"
  },
  "language_info": {
   "codemirror_mode": {
    "name": "ipython",
    "version": 3
   },
   "file_extension": ".py",
   "mimetype": "text/x-python",
   "name": "python",
   "nbconvert_exporter": "python",
   "pygments_lexer": "ipython3",
   "version": "3.11.0"
  },
  "orig_nbformat": 4,
  "vscode": {
   "interpreter": {
    "hash": "95d21a403ce38efc0500bb7d5c286cc70e29f8acd2c1a3e359e903572c7f0498"
   }
  }
 },
 "nbformat": 4,
 "nbformat_minor": 2
}
